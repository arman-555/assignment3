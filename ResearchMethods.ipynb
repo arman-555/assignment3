{
  "nbformat": 4,
  "nbformat_minor": 0,
  "metadata": {
    "colab": {
      "provenance": [],
      "authorship_tag": "ABX9TyNZPvvLN8n4uj7mRYKRHQsM",
      "include_colab_link": true
    },
    "kernelspec": {
      "name": "python3",
      "display_name": "Python 3"
    },
    "language_info": {
      "name": "python"
    }
  },
  "cells": [
    {
      "cell_type": "markdown",
      "metadata": {
        "id": "view-in-github",
        "colab_type": "text"
      },
      "source": [
        "<a href=\"https://colab.research.google.com/github/arman-555/assignment3/blob/main/ResearchMethods.ipynb\" target=\"_parent\"><img src=\"https://colab.research.google.com/assets/colab-badge.svg\" alt=\"Open In Colab\"/></a>"
      ]
    },
    {
      "cell_type": "code",
      "source": [
        "from google.colab import files\n",
        "\n",
        "uploaded = files.upload()  # Выбери terms.txt и non_terms.txt\n"
      ],
      "metadata": {
        "colab": {
          "base_uri": "https://localhost:8080/",
          "height": 108
        },
        "id": "fCMZTSCIeB23",
        "outputId": "e8366230-4101-4ad4-b046-cf4d4df7536b"
      },
      "execution_count": null,
      "outputs": [
        {
          "output_type": "display_data",
          "data": {
            "text/plain": [
              "<IPython.core.display.HTML object>"
            ],
            "text/html": [
              "\n",
              "     <input type=\"file\" id=\"files-014baff6-4aed-467c-a983-2db1d8d498b3\" name=\"files[]\" multiple disabled\n",
              "        style=\"border:none\" />\n",
              "     <output id=\"result-014baff6-4aed-467c-a983-2db1d8d498b3\">\n",
              "      Upload widget is only available when the cell has been executed in the\n",
              "      current browser session. Please rerun this cell to enable.\n",
              "      </output>\n",
              "      <script>// Copyright 2017 Google LLC\n",
              "//\n",
              "// Licensed under the Apache License, Version 2.0 (the \"License\");\n",
              "// you may not use this file except in compliance with the License.\n",
              "// You may obtain a copy of the License at\n",
              "//\n",
              "//      http://www.apache.org/licenses/LICENSE-2.0\n",
              "//\n",
              "// Unless required by applicable law or agreed to in writing, software\n",
              "// distributed under the License is distributed on an \"AS IS\" BASIS,\n",
              "// WITHOUT WARRANTIES OR CONDITIONS OF ANY KIND, either express or implied.\n",
              "// See the License for the specific language governing permissions and\n",
              "// limitations under the License.\n",
              "\n",
              "/**\n",
              " * @fileoverview Helpers for google.colab Python module.\n",
              " */\n",
              "(function(scope) {\n",
              "function span(text, styleAttributes = {}) {\n",
              "  const element = document.createElement('span');\n",
              "  element.textContent = text;\n",
              "  for (const key of Object.keys(styleAttributes)) {\n",
              "    element.style[key] = styleAttributes[key];\n",
              "  }\n",
              "  return element;\n",
              "}\n",
              "\n",
              "// Max number of bytes which will be uploaded at a time.\n",
              "const MAX_PAYLOAD_SIZE = 100 * 1024;\n",
              "\n",
              "function _uploadFiles(inputId, outputId) {\n",
              "  const steps = uploadFilesStep(inputId, outputId);\n",
              "  const outputElement = document.getElementById(outputId);\n",
              "  // Cache steps on the outputElement to make it available for the next call\n",
              "  // to uploadFilesContinue from Python.\n",
              "  outputElement.steps = steps;\n",
              "\n",
              "  return _uploadFilesContinue(outputId);\n",
              "}\n",
              "\n",
              "// This is roughly an async generator (not supported in the browser yet),\n",
              "// where there are multiple asynchronous steps and the Python side is going\n",
              "// to poll for completion of each step.\n",
              "// This uses a Promise to block the python side on completion of each step,\n",
              "// then passes the result of the previous step as the input to the next step.\n",
              "function _uploadFilesContinue(outputId) {\n",
              "  const outputElement = document.getElementById(outputId);\n",
              "  const steps = outputElement.steps;\n",
              "\n",
              "  const next = steps.next(outputElement.lastPromiseValue);\n",
              "  return Promise.resolve(next.value.promise).then((value) => {\n",
              "    // Cache the last promise value to make it available to the next\n",
              "    // step of the generator.\n",
              "    outputElement.lastPromiseValue = value;\n",
              "    return next.value.response;\n",
              "  });\n",
              "}\n",
              "\n",
              "/**\n",
              " * Generator function which is called between each async step of the upload\n",
              " * process.\n",
              " * @param {string} inputId Element ID of the input file picker element.\n",
              " * @param {string} outputId Element ID of the output display.\n",
              " * @return {!Iterable<!Object>} Iterable of next steps.\n",
              " */\n",
              "function* uploadFilesStep(inputId, outputId) {\n",
              "  const inputElement = document.getElementById(inputId);\n",
              "  inputElement.disabled = false;\n",
              "\n",
              "  const outputElement = document.getElementById(outputId);\n",
              "  outputElement.innerHTML = '';\n",
              "\n",
              "  const pickedPromise = new Promise((resolve) => {\n",
              "    inputElement.addEventListener('change', (e) => {\n",
              "      resolve(e.target.files);\n",
              "    });\n",
              "  });\n",
              "\n",
              "  const cancel = document.createElement('button');\n",
              "  inputElement.parentElement.appendChild(cancel);\n",
              "  cancel.textContent = 'Cancel upload';\n",
              "  const cancelPromise = new Promise((resolve) => {\n",
              "    cancel.onclick = () => {\n",
              "      resolve(null);\n",
              "    };\n",
              "  });\n",
              "\n",
              "  // Wait for the user to pick the files.\n",
              "  const files = yield {\n",
              "    promise: Promise.race([pickedPromise, cancelPromise]),\n",
              "    response: {\n",
              "      action: 'starting',\n",
              "    }\n",
              "  };\n",
              "\n",
              "  cancel.remove();\n",
              "\n",
              "  // Disable the input element since further picks are not allowed.\n",
              "  inputElement.disabled = true;\n",
              "\n",
              "  if (!files) {\n",
              "    return {\n",
              "      response: {\n",
              "        action: 'complete',\n",
              "      }\n",
              "    };\n",
              "  }\n",
              "\n",
              "  for (const file of files) {\n",
              "    const li = document.createElement('li');\n",
              "    li.append(span(file.name, {fontWeight: 'bold'}));\n",
              "    li.append(span(\n",
              "        `(${file.type || 'n/a'}) - ${file.size} bytes, ` +\n",
              "        `last modified: ${\n",
              "            file.lastModifiedDate ? file.lastModifiedDate.toLocaleDateString() :\n",
              "                                    'n/a'} - `));\n",
              "    const percent = span('0% done');\n",
              "    li.appendChild(percent);\n",
              "\n",
              "    outputElement.appendChild(li);\n",
              "\n",
              "    const fileDataPromise = new Promise((resolve) => {\n",
              "      const reader = new FileReader();\n",
              "      reader.onload = (e) => {\n",
              "        resolve(e.target.result);\n",
              "      };\n",
              "      reader.readAsArrayBuffer(file);\n",
              "    });\n",
              "    // Wait for the data to be ready.\n",
              "    let fileData = yield {\n",
              "      promise: fileDataPromise,\n",
              "      response: {\n",
              "        action: 'continue',\n",
              "      }\n",
              "    };\n",
              "\n",
              "    // Use a chunked sending to avoid message size limits. See b/62115660.\n",
              "    let position = 0;\n",
              "    do {\n",
              "      const length = Math.min(fileData.byteLength - position, MAX_PAYLOAD_SIZE);\n",
              "      const chunk = new Uint8Array(fileData, position, length);\n",
              "      position += length;\n",
              "\n",
              "      const base64 = btoa(String.fromCharCode.apply(null, chunk));\n",
              "      yield {\n",
              "        response: {\n",
              "          action: 'append',\n",
              "          file: file.name,\n",
              "          data: base64,\n",
              "        },\n",
              "      };\n",
              "\n",
              "      let percentDone = fileData.byteLength === 0 ?\n",
              "          100 :\n",
              "          Math.round((position / fileData.byteLength) * 100);\n",
              "      percent.textContent = `${percentDone}% done`;\n",
              "\n",
              "    } while (position < fileData.byteLength);\n",
              "  }\n",
              "\n",
              "  // All done.\n",
              "  yield {\n",
              "    response: {\n",
              "      action: 'complete',\n",
              "    }\n",
              "  };\n",
              "}\n",
              "\n",
              "scope.google = scope.google || {};\n",
              "scope.google.colab = scope.google.colab || {};\n",
              "scope.google.colab._files = {\n",
              "  _uploadFiles,\n",
              "  _uploadFilesContinue,\n",
              "};\n",
              "})(self);\n",
              "</script> "
            ]
          },
          "metadata": {}
        },
        {
          "output_type": "stream",
          "name": "stdout",
          "text": [
            "Saving non_terms.txt to non_terms.txt\n",
            "Saving terms.txt to terms.txt\n"
          ]
        }
      ]
    },
    {
      "cell_type": "code",
      "source": [
        "# Функция исправления формата файлов\n",
        "def fix_file_format(input_file, output_file):\n",
        "    with open(input_file, \"r\", encoding=\"utf-8\") as f:\n",
        "        text = f.read()\n",
        "    words = text.split(\", \")  # Разделяем по запятым\n",
        "    with open(output_file, \"w\", encoding=\"utf-8\") as f:\n",
        "        f.write(\"\\n\".join(words))  # Записываем каждое слово с новой строки\n",
        "\n",
        "# Исправляем оба файла\n",
        "fix_file_format(\"terms.txt\", \"fixed_terms.txt\")\n",
        "fix_file_format(\"non_terms.txt\", \"fixed_non_terms.txt\")\n",
        "\n",
        "print(\"✅ Формат исправлен! Новые файлы: fixed_terms.txt и fixed_non_terms.txt\")\n"
      ],
      "metadata": {
        "colab": {
          "base_uri": "https://localhost:8080/"
        },
        "id": "Sk3ede4idWwY",
        "outputId": "37165f05-46a2-42bb-8683-049b706e781c"
      },
      "execution_count": null,
      "outputs": [
        {
          "output_type": "stream",
          "name": "stdout",
          "text": [
            "✅ Формат исправлен! Новые файлы: fixed_terms.txt и fixed_non_terms.txt\n"
          ]
        }
      ]
    },
    {
      "cell_type": "code",
      "source": [
        "with open(\"fixed_terms.txt\", \"r\", encoding=\"utf-8\") as f:\n",
        "    terms = f.readlines()\n",
        "    print(f\"Термины ({len(terms)} слов):\", terms[:10])  # Выведет первые 10 строк\n",
        "\n",
        "with open(\"fixed_non_terms.txt\", \"r\", encoding=\"utf-8\") as f:\n",
        "    non_terms = f.readlines()\n",
        "    print(f\"Не-термины ({len(non_terms)} слов):\", non_terms[:10])  # Выведет первые 10 строк\n"
      ],
      "metadata": {
        "id": "jJ9jo880eGsM",
        "colab": {
          "base_uri": "https://localhost:8080/"
        },
        "outputId": "28ede73c-62c5-449e-bafa-ab6bb3d39443"
      },
      "execution_count": null,
      "outputs": [
        {
          "output_type": "stream",
          "name": "stdout",
          "text": [
            "Термины (642 слов): ['Научные вычисления\\n', 'моделирование\\n', 'физических процессов\\n', 'численный анализ\\n', 'дифференциальные уравнения\\n', 'динамические системы\\n', 'аэродинамика\\n', 'методы конечных элементов\\n', 'прогнозирование\\n', 'воздушные потоки\\n']\n",
            "Не-термины (808 слов): ['играют\\n', 'важную\\n', 'роль\\n', 'позволяет\\n', 'возникающие\\n', 'используются\\n', 'для\\n', 'прогнозирования\\n', 'позволяет\\n', 'инженерам\\n']\n"
          ]
        }
      ]
    },
    {
      "cell_type": "code",
      "source": [
        "import pandas as pd\n",
        "\n",
        "# Загрузка терминов\n",
        "with open(\"fixed_terms.txt\", \"r\", encoding=\"utf-8\") as f:\n",
        "    terms = [line.strip() for line in f.readlines() if line.strip()]\n",
        "\n",
        "# Загрузка не-терминов\n",
        "with open(\"fixed_non_terms.txt\", \"r\", encoding=\"utf-8\") as f:\n",
        "    non_terms = [line.strip() for line in f.readlines() if line.strip()]\n",
        "\n",
        "# Создание датаcета\n",
        "df_terms = pd.DataFrame({\"word\": terms, \"label\": 1})\n",
        "df_non_terms = pd.DataFrame({\"word\": non_terms, \"label\": 0})\n",
        "\n",
        "# Объединение данных\n",
        "df = pd.concat([df_terms, df_non_terms], ignore_index=True)\n",
        "\n",
        "# Сохранение в CSV\n",
        "df.to_csv(\"dataset.csv\", index=False, encoding=\"utf-8\")\n",
        "\n",
        "print(f\" CSV-датаcет сохранен: dataset.csv (Терминов: {len(df_terms)}, Не-терминов: {len(df_non_terms)})\")\n"
      ],
      "metadata": {
        "colab": {
          "base_uri": "https://localhost:8080/"
        },
        "id": "hWzWx9XEfIYz",
        "outputId": "d08c0995-7c80-4dda-f9fc-de8800ef2606"
      },
      "execution_count": null,
      "outputs": [
        {
          "output_type": "stream",
          "name": "stdout",
          "text": [
            " CSV-датаcет сохранен: dataset.csv (Терминов: 642, Не-терминов: 808)\n"
          ]
        }
      ]
    },
    {
      "cell_type": "code",
      "source": [
        "import pandas as pd\n",
        "\n",
        "df = pd.read_csv(\"dataset.csv\")\n",
        "print(df.head(10))  # Вывести первые 10 строк\n"
      ],
      "metadata": {
        "colab": {
          "base_uri": "https://localhost:8080/"
        },
        "id": "4DnC9fCCfayp",
        "outputId": "bed80b1d-d0ad-4e58-ea6b-ec9d2eee03c1"
      },
      "execution_count": null,
      "outputs": [
        {
          "output_type": "stream",
          "name": "stdout",
          "text": [
            "                         word  label\n",
            "0          Научные вычисления      1\n",
            "1               моделирование      1\n",
            "2        физических процессов      1\n",
            "3            численный анализ      1\n",
            "4  дифференциальные уравнения      1\n",
            "5        динамические системы      1\n",
            "6                аэродинамика      1\n",
            "7   методы конечных элементов      1\n",
            "8             прогнозирование      1\n",
            "9            воздушные потоки      1\n"
          ]
        }
      ]
    },
    {
      "cell_type": "code",
      "source": [
        "import pandas as pd\n",
        "\n",
        "# Загружаем датасет\n",
        "df = pd.read_csv(\"dataset.csv\")\n",
        "\n",
        "# Убираем дубликаты\n",
        "df = df.drop_duplicates()\n",
        "\n",
        "# Убираем пустые строки, если есть\n",
        "df = df.dropna()\n",
        "\n",
        "# Удаляем лишние пробелы\n",
        "df[\"word\"] = df[\"word\"].str.strip()\n",
        "\n",
        "# Сохраняем очищенный датасет\n",
        "df.to_csv(\"cleaned_dataset.csv\", index=False, encoding=\"utf-8\")\n",
        "\n",
        "print(f\" Дубликаты удалены! Новый размер датасета: {len(df)} записей\")\n"
      ],
      "metadata": {
        "colab": {
          "base_uri": "https://localhost:8080/"
        },
        "id": "cxs2h9-Ej0aC",
        "outputId": "0959247e-4e60-44ac-94b2-15d072e7e30f"
      },
      "execution_count": null,
      "outputs": [
        {
          "output_type": "stream",
          "name": "stdout",
          "text": [
            " Дубликаты удалены! Новый размер датасета: 908 записей\n"
          ]
        }
      ]
    },
    {
      "cell_type": "code",
      "source": [
        "import pandas as pd\n",
        "import matplotlib.pyplot as plt\n",
        "import seaborn as sns\n",
        "\n",
        "df = pd.read_csv(\"cleaned_dataset.csv\")\n",
        "\n",
        "print(df[\"label\"].value_counts())\n",
        "\n",
        "df[\"word_length\"] = df[\"word\"].apply(len)\n",
        "\n",
        "plt.figure(figsize=(8,5))\n",
        "sns.histplot(df[df[\"label\"] == 1][\"word_length\"], bins=30, kde=True, label=\"Термины\", color=\"blue\", alpha=0.6)\n",
        "sns.histplot(df[df[\"label\"] == 0][\"word_length\"], bins=30, kde=True, label=\"Не-термины\", color=\"red\", alpha=0.6)\n",
        "plt.legend()\n",
        "plt.title(\"Распределение длины слов в терминах и не-терминах\")\n",
        "plt.xlabel(\"Длина слова (символы)\")\n",
        "plt.ylabel(\"Частота\")\n",
        "plt.show()\n"
      ],
      "metadata": {
        "colab": {
          "base_uri": "https://localhost:8080/",
          "height": 561
        },
        "id": "3yNBOdfXkOmU",
        "outputId": "87441822-5454-433c-913f-318fda8c34f1"
      },
      "execution_count": null,
      "outputs": [
        {
          "output_type": "stream",
          "name": "stdout",
          "text": [
            "label\n",
            "1    516\n",
            "0    392\n",
            "Name: count, dtype: int64\n"
          ]
        },
        {
          "output_type": "display_data",
          "data": {
            "text/plain": [
              "<Figure size 800x500 with 1 Axes>"
            ],
            "image/png": "[encoded data removed]"
          },
          "metadata": {}
        }
      ]
    },
    {
      "cell_type": "code",
      "source": [
        "from transformers import BertTokenizer\n",
        "\n",
        "tokenizer = BertTokenizer.from_pretrained(\"bert-base-multilingual-cased\")\n",
        "\n",
        "# Применение токенизатора к тексту\n",
        "tokens = df[\"word\"].apply(lambda x: tokenizer.encode(x, add_special_tokens=True))\n",
        "\n",
        "df[\"tokens\"] = tokens\n",
        "df.to_csv(\"tokenized_dataset.csv\", index=False)\n",
        "\n",
        "print(\"Токенизация завершена, датасет сохранен.\")\n"
      ],
      "metadata": {
        "colab": {
          "base_uri": "https://localhost:8080/"
        },
        "id": "lH8GRL-mfl4c",
        "outputId": "b6f2b8d3-d7ac-4fcb-c796-cd7ca199a372"
      },
      "execution_count": null,
      "outputs": [
        {
          "output_type": "stream",
          "name": "stdout",
          "text": [
            "Токенизация завершена, датасет сохранен.\n"
          ]
        }
      ]
    },
    {
      "cell_type": "code",
      "source": [
        "from transformers import BertTokenizer\n",
        "import torch\n",
        "from sklearn.model_selection import train_test_split\n",
        "\n",
        "tokenizer = BertTokenizer.from_pretrained(\"bert-base-multilingual-cased\")\n",
        "\n",
        "\n",
        "# Определяем максимальную длину токенов\n",
        "max_length = max(len(t) for t in tokens)\n",
        "\n",
        "# Паддинг токенов до max_length\n",
        "input_ids = torch.tensor([t + [0] * (max_length - len(t)) for t in tokens])\n",
        "attention_masks = torch.tensor([[1] * len(t) + [0] * (max_length - len(t)) for t in tokens])\n",
        "labels = torch.tensor(df[\"label\"].values)\n",
        "\n",
        "# Разделение на train/test (80/20)\n",
        "train_inputs, test_inputs, train_labels, test_labels = train_test_split(\n",
        "    input_ids, labels, test_size=0.2, random_state=42\n",
        ")\n",
        "train_masks, test_masks, _, _ = train_test_split(\n",
        "    attention_masks, labels, test_size=0.2, random_state=42\n",
        ")\n"
      ],
      "metadata": {
        "id": "hdVxZjbdgzGF"
      },
      "execution_count": null,
      "outputs": []
    },
    {
      "cell_type": "code",
      "source": [
        "from torch.utils.data import DataLoader, TensorDataset\n",
        "from transformers import BertForSequenceClassification, AdamW\n",
        "import torch\n",
        "import torch.nn.functional as F\n",
        "from torch.nn import CrossEntropyLoss\n",
        "\n",
        "batch_size = 16\n",
        "\n",
        "# Создание DataLoader\n",
        "train_data = TensorDataset(train_inputs, train_masks, train_labels)\n",
        "train_dataloader = DataLoader(train_data, batch_size=batch_size, shuffle=True)\n",
        "\n",
        "test_data = TensorDataset(test_inputs, test_masks, test_labels)\n",
        "test_dataloader = DataLoader(test_data, batch_size=batch_size, shuffle=False)\n",
        "\n",
        "# Создание модели\n",
        "model = BertForSequenceClassification.from_pretrained(\"bert-base-multilingual-cased\", num_labels=2)\n",
        "optimizer = AdamW(model.parameters(), lr=2e-5, eps=1e-8)\n",
        "\n",
        "# Используем class weights\n",
        "class_weights = torch.tensor([2.0, 1.0]).to(device)\n",
        "loss_function = CrossEntropyLoss(weight=class_weights)\n",
        "\n",
        "# Обучение модели\n",
        "device = torch.device(\"cuda\" if torch.cuda.is_available() else \"cpu\")\n",
        "model.to(device)\n",
        "\n",
        "epochs = 5  # Больше эпох для лучшего обучения\n",
        "for epoch in range(epochs):\n",
        "    model.train()\n",
        "    total_loss = 0\n",
        "    for batch in train_dataloader:\n",
        "        b_input_ids, b_input_mask, b_labels = [t.to(device) for t in batch]\n",
        "\n",
        "        model.zero_grad()\n",
        "        outputs = model(b_input_ids, attention_mask=b_input_mask, labels=b_labels)\n",
        "\n",
        "        loss = loss_function(outputs.logits, b_labels)  # Используем Лосс Функцию\n",
        "        total_loss += loss.item()\n",
        "\n",
        "        loss.backward()\n",
        "        optimizer.step()\n",
        "\n",
        "    avg_train_loss = total_loss / len(train_dataloader)\n",
        "    print(f\"Epoch {epoch + 1}, Train Loss: {avg_train_loss:.4f}\")\n",
        "\n",
        "    # Проверяем качество на тесте\n",
        "    model.eval()\n",
        "    val_loss = 0\n",
        "    predictions, true_labels = [], []\n",
        "    with torch.no_grad():\n",
        "        for batch in test_dataloader:\n",
        "            b_input_ids, b_input_mask, b_labels = [t.to(device) for t in batch]\n",
        "            outputs = model(b_input_ids, attention_mask=b_input_mask, labels=b_labels)\n",
        "\n",
        "            val_loss += loss_function(outputs.logits, b_labels).item()\n",
        "            predictions.extend(torch.argmax(outputs.logits, dim=1).cpu().numpy())\n",
        "            true_labels.extend(b_labels.cpu().numpy())\n",
        "\n",
        "    avg_val_loss = val_loss / len(test_dataloader)\n",
        "    print(f\"Epoch {epoch + 1}, Validation Loss: {avg_val_loss:.4f}\")\n",
        "\n",
        "# Сохраняем модель после тренировки\n",
        "model.save_pretrained(\"bert_model\")\n",
        "print(\"✅ Модель сохранена в папку 'bert_model'\")\n",
        "\n"
      ],
      "metadata": {
        "colab": {
          "base_uri": "https://localhost:8080/"
        },
        "id": "Ks8FisVGkmEH",
        "outputId": "6e16a87e-e57a-44b0-fa12-f0149abf9503"
      },
      "execution_count": null,
      "outputs": [
        {
          "output_type": "stream",
          "name": "stderr",
          "text": [
            "Some weights of BertForSequenceClassification were not initialized from the model checkpoint at bert-base-multilingual-cased and are newly initialized: ['classifier.bias', 'classifier.weight']\n",
            "You should probably TRAIN this model on a down-stream task to be able to use it for predictions and inference.\n",
            "/usr/local/lib/python3.11/dist-packages/transformers/optimization.py:591: FutureWarning: This implementation of AdamW is deprecated and will be removed in a future version. Use the PyTorch implementation torch.optim.AdamW instead, or set `no_deprecation_warning=True` to disable this warning\n",
            "  warnings.warn(\n"
          ]
        },
        {
          "output_type": "stream",
          "name": "stdout",
          "text": [
            "Epoch 1, Train Loss: 0.2445\n",
            "Epoch 1, Validation Loss: 0.0671\n",
            "Epoch 2, Train Loss: 0.0720\n",
            "Epoch 2, Validation Loss: 0.1100\n",
            "Epoch 3, Train Loss: 0.0446\n",
            "Epoch 3, Validation Loss: 0.0544\n",
            "Epoch 4, Train Loss: 0.0210\n",
            "Epoch 4, Validation Loss: 0.0429\n",
            "Epoch 5, Train Loss: 0.0144\n",
            "Epoch 5, Validation Loss: 0.1343\n",
            "✅ Модель сохранена в папку 'bert_model'\n"
          ]
        }
      ]
    },
    {
      "cell_type": "code",
      "source": [
        "import torch\n",
        "from transformers import BertForSequenceClassification, BertTokenizer\n",
        "\n",
        "device = torch.device(\"cuda\" if torch.cuda.is_available() else \"cpu\")\n",
        "\n",
        "#  Загрузка обученной модели\n",
        "model = BertForSequenceClassification.from_pretrained(\"bert_model\")\n",
        "model.to(device)\n",
        "model.eval()\n",
        "\n",
        "# Загружаем токенизатор\n",
        "tokenizer = BertTokenizer.from_pretrained(\"bert-base-multilingual-cased\")\n",
        "\n",
        "print(\" Модель успешно загружена!\")\n"
      ],
      "metadata": {
        "colab": {
          "base_uri": "https://localhost:8080/"
        },
        "id": "Y8oDc-nHyRbk",
        "outputId": "b6ef391b-2a74-47c2-c58a-b8b62296f234"
      },
      "execution_count": null,
      "outputs": [
        {
          "output_type": "stream",
          "name": "stdout",
          "text": [
            " Модель успешно загружена!\n"
          ]
        }
      ]
    },
    {
      "cell_type": "code",
      "source": [
        "from sklearn.metrics import classification_report\n",
        "\n",
        "model.eval()\n",
        "predictions, true_labels = [], []\n",
        "\n",
        "with torch.no_grad():\n",
        "    for batch in test_dataloader:\n",
        "        b_input_ids, b_input_mask, b_labels = [t.to(device) for t in batch]\n",
        "        logits = model(b_input_ids, attention_mask=b_input_mask).logits\n",
        "        predictions.extend(torch.argmax(logits, dim=1).cpu().numpy())\n",
        "        true_labels.extend(b_labels.cpu().numpy())\n",
        "\n",
        "# Выводим результаты\n",
        "print(classification_report(true_labels, predictions, target_names=[\"Не-термин\", \"Термин\"]))\n"
      ],
      "metadata": {
        "colab": {
          "base_uri": "https://localhost:8080/"
        },
        "id": "N7J4APwDqYKS",
        "outputId": "41b00028-a89b-4c3a-c8af-6eb6b69f3f40"
      },
      "execution_count": null,
      "outputs": [
        {
          "output_type": "stream",
          "name": "stdout",
          "text": [
            "              precision    recall  f1-score   support\n",
            "\n",
            "   Не-термин       0.89      1.00      0.94        74\n",
            "      Термин       1.00      0.92      0.96       108\n",
            "\n",
            "    accuracy                           0.95       182\n",
            "   macro avg       0.95      0.96      0.95       182\n",
            "weighted avg       0.96      0.95      0.95       182\n",
            "\n"
          ]
        }
      ]
    },
    {
      "cell_type": "code",
      "source": [
        "def get_ngrams(words, n=2):\n",
        "    \"\"\"Создаёт список биграмм и триграмм\"\"\"\n",
        "    return [\" \".join(words[i:i+n]) for i in range(len(words)-n+1)]\n",
        "\n",
        "def classify_text(text, model, tokenizer, device, threshold=0.5):\n",
        "    words = text.split()\n",
        "    bigrams = get_ngrams(words, 2)\n",
        "    trigrams = get_ngrams(words, 3)\n",
        "    all_phrases = words + bigrams + trigrams  # Добавляем всё в список\n",
        "\n",
        "    results = {}\n",
        "    for phrase in all_phrases:\n",
        "        label, conf = classify_word(phrase, model, tokenizer, device, threshold)\n",
        "        results[phrase] = (label, conf)\n",
        "\n",
        "    return results\n"
      ],
      "metadata": {
        "id": "19jS1YgUv4IQ"
      },
      "execution_count": null,
      "outputs": []
    },
    {
      "cell_type": "code",
      "source": [
        "def classify_word(word, model, tokenizer, device, threshold=0.5):\n",
        "    \"\"\"Классифицирует одно слово как 'Термин' или 'Не-термин'\"\"\"\n",
        "    encoded_input = tokenizer.batch_encode_plus([word], padding=True, truncation=True, max_length=32, return_tensors=\"pt\")\n",
        "\n",
        "    input_ids = encoded_input[\"input_ids\"].to(device)\n",
        "    attention_mask = encoded_input[\"attention_mask\"].to(device)\n",
        "\n",
        "    with torch.no_grad():\n",
        "        logits = model(input_ids, attention_mask=attention_mask).logits\n",
        "        probs = F.softmax(logits, dim=1)[:, 1].cpu().numpy()  # Вероятность быть \"Термином\"\n",
        "\n",
        "    prediction = \"Термин\" if probs[0] >= threshold else \"Не-термин\"\n",
        "    confidence = probs[0]\n",
        "\n",
        "    return prediction, confidence\n"
      ],
      "metadata": {
        "id": "kswLJ2yWBBlf"
      },
      "execution_count": null,
      "outputs": []
    },
    {
      "cell_type": "code",
      "source": [
        "!pip install spacy\n",
        "!python -m spacy download ru_core_news_sm"
      ],
      "metadata": {
        "colab": {
          "base_uri": "https://localhost:8080/"
        },
        "id": "FKazLCt9BKfN",
        "outputId": "8caa3f70-e72b-4183-85bd-a52f5c375ca4"
      },
      "execution_count": null,
      "outputs": [
        {
          "output_type": "stream",
          "name": "stdout",
          "text": [
            "Requirement already satisfied: spacy in /usr/local/lib/python3.11/dist-packages (3.7.5)\n",
            "Requirement already satisfied: spacy-legacy<3.1.0,>=3.0.11 in /usr/local/lib/python3.11/dist-packages (from spacy) (3.0.12)\n",
            "Requirement already satisfied: spacy-loggers<2.0.0,>=1.0.0 in /usr/local/lib/python3.11/dist-packages (from spacy) (1.0.5)\n",
            "Requirement already satisfied: murmurhash<1.1.0,>=0.28.0 in /usr/local/lib/python3.11/dist-packages (from spacy) (1.0.12)\n",
            "Requirement already satisfied: cymem<2.1.0,>=2.0.2 in /usr/local/lib/python3.11/dist-packages (from spacy) (2.0.11)\n",
            "Requirement already satisfied: preshed<3.1.0,>=3.0.2 in /usr/local/lib/python3.11/dist-packages (from spacy) (3.0.9)\n",
            "Requirement already satisfied: thinc<8.3.0,>=8.2.2 in /usr/local/lib/python3.11/dist-packages (from spacy) (8.2.5)\n",
            "Requirement already satisfied: wasabi<1.2.0,>=0.9.1 in /usr/local/lib/python3.11/dist-packages (from spacy) (1.1.3)\n",
            "Requirement already satisfied: srsly<3.0.0,>=2.4.3 in /usr/local/lib/python3.11/dist-packages (from spacy) (2.5.1)\n",
            "Requirement already satisfied: catalogue<2.1.0,>=2.0.6 in /usr/local/lib/python3.11/dist-packages (from spacy) (2.0.10)\n",
            "Requirement already satisfied: weasel<0.5.0,>=0.1.0 in /usr/local/lib/python3.11/dist-packages (from spacy) (0.4.1)\n",
            "Requirement already satisfied: typer<1.0.0,>=0.3.0 in /usr/local/lib/python3.11/dist-packages (from spacy) (0.15.1)\n",
            "Requirement already satisfied: tqdm<5.0.0,>=4.38.0 in /usr/local/lib/python3.11/dist-packages (from spacy) (4.67.1)\n",
            "Requirement already satisfied: requests<3.0.0,>=2.13.0 in /usr/local/lib/python3.11/dist-packages (from spacy) (2.32.3)\n",
            "Requirement already satisfied: pydantic!=1.8,!=1.8.1,<3.0.0,>=1.7.4 in /usr/local/lib/python3.11/dist-packages (from spacy) (2.10.6)\n",
            "Requirement already satisfied: jinja2 in /usr/local/lib/python3.11/dist-packages (from spacy) (3.1.5)\n",
            "Requirement already satisfied: setuptools in /usr/local/lib/python3.11/dist-packages (from spacy) (75.1.0)\n",
            "Requirement already satisfied: packaging>=20.0 in /usr/local/lib/python3.11/dist-packages (from spacy) (24.2)\n",
            "Requirement already satisfied: langcodes<4.0.0,>=3.2.0 in /usr/local/lib/python3.11/dist-packages (from spacy) (3.5.0)\n",
            "Requirement already satisfied: numpy>=1.19.0 in /usr/local/lib/python3.11/dist-packages (from spacy) (1.26.4)\n",
            "Requirement already satisfied: language-data>=1.2 in /usr/local/lib/python3.11/dist-packages (from langcodes<4.0.0,>=3.2.0->spacy) (1.3.0)\n",
            "Requirement already satisfied: annotated-types>=0.6.0 in /usr/local/lib/python3.11/dist-packages (from pydantic!=1.8,!=1.8.1,<3.0.0,>=1.7.4->spacy) (0.7.0)\n",
            "Requirement already satisfied: pydantic-core==2.27.2 in /usr/local/lib/python3.11/dist-packages (from pydantic!=1.8,!=1.8.1,<3.0.0,>=1.7.4->spacy) (2.27.2)\n",
            "Requirement already satisfied: typing-extensions>=4.12.2 in /usr/local/lib/python3.11/dist-packages (from pydantic!=1.8,!=1.8.1,<3.0.0,>=1.7.4->spacy) (4.12.2)\n",
            "Requirement already satisfied: charset-normalizer<4,>=2 in /usr/local/lib/python3.11/dist-packages (from requests<3.0.0,>=2.13.0->spacy) (3.4.1)\n",
            "Requirement already satisfied: idna<4,>=2.5 in /usr/local/lib/python3.11/dist-packages (from requests<3.0.0,>=2.13.0->spacy) (3.10)\n",
            "Requirement already satisfied: urllib3<3,>=1.21.1 in /usr/local/lib/python3.11/dist-packages (from requests<3.0.0,>=2.13.0->spacy) (2.3.0)\n",
            "Requirement already satisfied: certifi>=2017.4.17 in /usr/local/lib/python3.11/dist-packages (from requests<3.0.0,>=2.13.0->spacy) (2025.1.31)\n",
            "Requirement already satisfied: blis<0.8.0,>=0.7.8 in /usr/local/lib/python3.11/dist-packages (from thinc<8.3.0,>=8.2.2->spacy) (0.7.11)\n",
            "Requirement already satisfied: confection<1.0.0,>=0.0.1 in /usr/local/lib/python3.11/dist-packages (from thinc<8.3.0,>=8.2.2->spacy) (0.1.5)\n",
            "Requirement already satisfied: click>=8.0.0 in /usr/local/lib/python3.11/dist-packages (from typer<1.0.0,>=0.3.0->spacy) (8.1.8)\n",
            "Requirement already satisfied: shellingham>=1.3.0 in /usr/local/lib/python3.11/dist-packages (from typer<1.0.0,>=0.3.0->spacy) (1.5.4)\n",
            "Requirement already satisfied: rich>=10.11.0 in /usr/local/lib/python3.11/dist-packages (from typer<1.0.0,>=0.3.0->spacy) (13.9.4)\n",
            "Requirement already satisfied: cloudpathlib<1.0.0,>=0.7.0 in /usr/local/lib/python3.11/dist-packages (from weasel<0.5.0,>=0.1.0->spacy) (0.20.0)\n",
            "Requirement already satisfied: smart-open<8.0.0,>=5.2.1 in /usr/local/lib/python3.11/dist-packages (from weasel<0.5.0,>=0.1.0->spacy) (7.1.0)\n",
            "Requirement already satisfied: MarkupSafe>=2.0 in /usr/local/lib/python3.11/dist-packages (from jinja2->spacy) (3.0.2)\n",
            "Requirement already satisfied: marisa-trie>=1.1.0 in /usr/local/lib/python3.11/dist-packages (from language-data>=1.2->langcodes<4.0.0,>=3.2.0->spacy) (1.2.1)\n",
            "Requirement already satisfied: markdown-it-py>=2.2.0 in /usr/local/lib/python3.11/dist-packages (from rich>=10.11.0->typer<1.0.0,>=0.3.0->spacy) (3.0.0)\n",
            "Requirement already satisfied: pygments<3.0.0,>=2.13.0 in /usr/local/lib/python3.11/dist-packages (from rich>=10.11.0->typer<1.0.0,>=0.3.0->spacy) (2.18.0)\n",
            "Requirement already satisfied: wrapt in /usr/local/lib/python3.11/dist-packages (from smart-open<8.0.0,>=5.2.1->weasel<0.5.0,>=0.1.0->spacy) (1.17.2)\n",
            "Requirement already satisfied: mdurl~=0.1 in /usr/local/lib/python3.11/dist-packages (from markdown-it-py>=2.2.0->rich>=10.11.0->typer<1.0.0,>=0.3.0->spacy) (0.1.2)\n",
            "Collecting ru-core-news-sm==3.7.0\n",
            "  Downloading https://github.com/explosion/spacy-models/releases/download/ru_core_news_sm-3.7.0/ru_core_news_sm-3.7.0-py3-none-any.whl (15.3 MB)\n",
            "\u001b[2K     \u001b[90m━━━━━━━━━━━━━━━━━━━━━━━━━━━━━━━━━━━━━━━━\u001b[0m \u001b[32m15.3/15.3 MB\u001b[0m \u001b[31m49.6 MB/s\u001b[0m eta \u001b[36m0:00:00\u001b[0m\n",
            "\u001b[?25hRequirement already satisfied: spacy<3.8.0,>=3.7.0 in /usr/local/lib/python3.11/dist-packages (from ru-core-news-sm==3.7.0) (3.7.5)\n",
            "Collecting pymorphy3>=1.0.0 (from ru-core-news-sm==3.7.0)\n",
            "  Downloading pymorphy3-2.0.2-py3-none-any.whl.metadata (1.8 kB)\n",
            "Requirement already satisfied: dawg-python>=0.7.1 in /usr/local/lib/python3.11/dist-packages (from pymorphy3>=1.0.0->ru-core-news-sm==3.7.0) (0.7.2)\n",
            "Collecting pymorphy3-dicts-ru (from pymorphy3>=1.0.0->ru-core-news-sm==3.7.0)\n",
            "  Downloading pymorphy3_dicts_ru-2.4.417150.4580142-py2.py3-none-any.whl.metadata (2.0 kB)\n",
            "Requirement already satisfied: spacy-legacy<3.1.0,>=3.0.11 in /usr/local/lib/python3.11/dist-packages (from spacy<3.8.0,>=3.7.0->ru-core-news-sm==3.7.0) (3.0.12)\n",
            "Requirement already satisfied: spacy-loggers<2.0.0,>=1.0.0 in /usr/local/lib/python3.11/dist-packages (from spacy<3.8.0,>=3.7.0->ru-core-news-sm==3.7.0) (1.0.5)\n",
            "Requirement already satisfied: murmurhash<1.1.0,>=0.28.0 in /usr/local/lib/python3.11/dist-packages (from spacy<3.8.0,>=3.7.0->ru-core-news-sm==3.7.0) (1.0.12)\n",
            "Requirement already satisfied: cymem<2.1.0,>=2.0.2 in /usr/local/lib/python3.11/dist-packages (from spacy<3.8.0,>=3.7.0->ru-core-news-sm==3.7.0) (2.0.11)\n",
            "Requirement already satisfied: preshed<3.1.0,>=3.0.2 in /usr/local/lib/python3.11/dist-packages (from spacy<3.8.0,>=3.7.0->ru-core-news-sm==3.7.0) (3.0.9)\n",
            "Requirement already satisfied: thinc<8.3.0,>=8.2.2 in /usr/local/lib/python3.11/dist-packages (from spacy<3.8.0,>=3.7.0->ru-core-news-sm==3.7.0) (8.2.5)\n",
            "Requirement already satisfied: wasabi<1.2.0,>=0.9.1 in /usr/local/lib/python3.11/dist-packages (from spacy<3.8.0,>=3.7.0->ru-core-news-sm==3.7.0) (1.1.3)\n",
            "Requirement already satisfied: srsly<3.0.0,>=2.4.3 in /usr/local/lib/python3.11/dist-packages (from spacy<3.8.0,>=3.7.0->ru-core-news-sm==3.7.0) (2.5.1)\n",
            "Requirement already satisfied: catalogue<2.1.0,>=2.0.6 in /usr/local/lib/python3.11/dist-packages (from spacy<3.8.0,>=3.7.0->ru-core-news-sm==3.7.0) (2.0.10)\n",
            "Requirement already satisfied: weasel<0.5.0,>=0.1.0 in /usr/local/lib/python3.11/dist-packages (from spacy<3.8.0,>=3.7.0->ru-core-news-sm==3.7.0) (0.4.1)\n",
            "Requirement already satisfied: typer<1.0.0,>=0.3.0 in /usr/local/lib/python3.11/dist-packages (from spacy<3.8.0,>=3.7.0->ru-core-news-sm==3.7.0) (0.15.1)\n",
            "Requirement already satisfied: tqdm<5.0.0,>=4.38.0 in /usr/local/lib/python3.11/dist-packages (from spacy<3.8.0,>=3.7.0->ru-core-news-sm==3.7.0) (4.67.1)\n",
            "Requirement already satisfied: requests<3.0.0,>=2.13.0 in /usr/local/lib/python3.11/dist-packages (from spacy<3.8.0,>=3.7.0->ru-core-news-sm==3.7.0) (2.32.3)\n",
            "Requirement already satisfied: pydantic!=1.8,!=1.8.1,<3.0.0,>=1.7.4 in /usr/local/lib/python3.11/dist-packages (from spacy<3.8.0,>=3.7.0->ru-core-news-sm==3.7.0) (2.10.6)\n",
            "Requirement already satisfied: jinja2 in /usr/local/lib/python3.11/dist-packages (from spacy<3.8.0,>=3.7.0->ru-core-news-sm==3.7.0) (3.1.5)\n",
            "Requirement already satisfied: setuptools in /usr/local/lib/python3.11/dist-packages (from spacy<3.8.0,>=3.7.0->ru-core-news-sm==3.7.0) (75.1.0)\n",
            "Requirement already satisfied: packaging>=20.0 in /usr/local/lib/python3.11/dist-packages (from spacy<3.8.0,>=3.7.0->ru-core-news-sm==3.7.0) (24.2)\n",
            "Requirement already satisfied: langcodes<4.0.0,>=3.2.0 in /usr/local/lib/python3.11/dist-packages (from spacy<3.8.0,>=3.7.0->ru-core-news-sm==3.7.0) (3.5.0)\n",
            "Requirement already satisfied: numpy>=1.19.0 in /usr/local/lib/python3.11/dist-packages (from spacy<3.8.0,>=3.7.0->ru-core-news-sm==3.7.0) (1.26.4)\n",
            "Requirement already satisfied: language-data>=1.2 in /usr/local/lib/python3.11/dist-packages (from langcodes<4.0.0,>=3.2.0->spacy<3.8.0,>=3.7.0->ru-core-news-sm==3.7.0) (1.3.0)\n",
            "Requirement already satisfied: annotated-types>=0.6.0 in /usr/local/lib/python3.11/dist-packages (from pydantic!=1.8,!=1.8.1,<3.0.0,>=1.7.4->spacy<3.8.0,>=3.7.0->ru-core-news-sm==3.7.0) (0.7.0)\n",
            "Requirement already satisfied: pydantic-core==2.27.2 in /usr/local/lib/python3.11/dist-packages (from pydantic!=1.8,!=1.8.1,<3.0.0,>=1.7.4->spacy<3.8.0,>=3.7.0->ru-core-news-sm==3.7.0) (2.27.2)\n",
            "Requirement already satisfied: typing-extensions>=4.12.2 in /usr/local/lib/python3.11/dist-packages (from pydantic!=1.8,!=1.8.1,<3.0.0,>=1.7.4->spacy<3.8.0,>=3.7.0->ru-core-news-sm==3.7.0) (4.12.2)\n",
            "Requirement already satisfied: charset-normalizer<4,>=2 in /usr/local/lib/python3.11/dist-packages (from requests<3.0.0,>=2.13.0->spacy<3.8.0,>=3.7.0->ru-core-news-sm==3.7.0) (3.4.1)\n",
            "Requirement already satisfied: idna<4,>=2.5 in /usr/local/lib/python3.11/dist-packages (from requests<3.0.0,>=2.13.0->spacy<3.8.0,>=3.7.0->ru-core-news-sm==3.7.0) (3.10)\n",
            "Requirement already satisfied: urllib3<3,>=1.21.1 in /usr/local/lib/python3.11/dist-packages (from requests<3.0.0,>=2.13.0->spacy<3.8.0,>=3.7.0->ru-core-news-sm==3.7.0) (2.3.0)\n",
            "Requirement already satisfied: certifi>=2017.4.17 in /usr/local/lib/python3.11/dist-packages (from requests<3.0.0,>=2.13.0->spacy<3.8.0,>=3.7.0->ru-core-news-sm==3.7.0) (2025.1.31)\n",
            "Requirement already satisfied: blis<0.8.0,>=0.7.8 in /usr/local/lib/python3.11/dist-packages (from thinc<8.3.0,>=8.2.2->spacy<3.8.0,>=3.7.0->ru-core-news-sm==3.7.0) (0.7.11)\n",
            "Requirement already satisfied: confection<1.0.0,>=0.0.1 in /usr/local/lib/python3.11/dist-packages (from thinc<8.3.0,>=8.2.2->spacy<3.8.0,>=3.7.0->ru-core-news-sm==3.7.0) (0.1.5)\n",
            "Requirement already satisfied: click>=8.0.0 in /usr/local/lib/python3.11/dist-packages (from typer<1.0.0,>=0.3.0->spacy<3.8.0,>=3.7.0->ru-core-news-sm==3.7.0) (8.1.8)\n",
            "Requirement already satisfied: shellingham>=1.3.0 in /usr/local/lib/python3.11/dist-packages (from typer<1.0.0,>=0.3.0->spacy<3.8.0,>=3.7.0->ru-core-news-sm==3.7.0) (1.5.4)\n",
            "Requirement already satisfied: rich>=10.11.0 in /usr/local/lib/python3.11/dist-packages (from typer<1.0.0,>=0.3.0->spacy<3.8.0,>=3.7.0->ru-core-news-sm==3.7.0) (13.9.4)\n",
            "Requirement already satisfied: cloudpathlib<1.0.0,>=0.7.0 in /usr/local/lib/python3.11/dist-packages (from weasel<0.5.0,>=0.1.0->spacy<3.8.0,>=3.7.0->ru-core-news-sm==3.7.0) (0.20.0)\n",
            "Requirement already satisfied: smart-open<8.0.0,>=5.2.1 in /usr/local/lib/python3.11/dist-packages (from weasel<0.5.0,>=0.1.0->spacy<3.8.0,>=3.7.0->ru-core-news-sm==3.7.0) (7.1.0)\n",
            "Requirement already satisfied: MarkupSafe>=2.0 in /usr/local/lib/python3.11/dist-packages (from jinja2->spacy<3.8.0,>=3.7.0->ru-core-news-sm==3.7.0) (3.0.2)\n",
            "Requirement already satisfied: marisa-trie>=1.1.0 in /usr/local/lib/python3.11/dist-packages (from language-data>=1.2->langcodes<4.0.0,>=3.2.0->spacy<3.8.0,>=3.7.0->ru-core-news-sm==3.7.0) (1.2.1)\n",
            "Requirement already satisfied: markdown-it-py>=2.2.0 in /usr/local/lib/python3.11/dist-packages (from rich>=10.11.0->typer<1.0.0,>=0.3.0->spacy<3.8.0,>=3.7.0->ru-core-news-sm==3.7.0) (3.0.0)\n",
            "Requirement already satisfied: pygments<3.0.0,>=2.13.0 in /usr/local/lib/python3.11/dist-packages (from rich>=10.11.0->typer<1.0.0,>=0.3.0->spacy<3.8.0,>=3.7.0->ru-core-news-sm==3.7.0) (2.18.0)\n",
            "Requirement already satisfied: wrapt in /usr/local/lib/python3.11/dist-packages (from smart-open<8.0.0,>=5.2.1->weasel<0.5.0,>=0.1.0->spacy<3.8.0,>=3.7.0->ru-core-news-sm==3.7.0) (1.17.2)\n",
            "Requirement already satisfied: mdurl~=0.1 in /usr/local/lib/python3.11/dist-packages (from markdown-it-py>=2.2.0->rich>=10.11.0->typer<1.0.0,>=0.3.0->spacy<3.8.0,>=3.7.0->ru-core-news-sm==3.7.0) (0.1.2)\n",
            "Downloading pymorphy3-2.0.2-py3-none-any.whl (53 kB)\n",
            "\u001b[2K   \u001b[90m━━━━━━━━━━━━━━━━━━━━━━━━━━━━━━━━━━━━━━━━\u001b[0m \u001b[32m53.8/53.8 kB\u001b[0m \u001b[31m1.9 MB/s\u001b[0m eta \u001b[36m0:00:00\u001b[0m\n",
            "\u001b[?25hDownloading pymorphy3_dicts_ru-2.4.417150.4580142-py2.py3-none-any.whl (8.4 MB)\n",
            "\u001b[2K   \u001b[90m━━━━━━━━━━━━━━━━━━━━━━━━━━━━━━━━━━━━━━━━\u001b[0m \u001b[32m8.4/8.4 MB\u001b[0m \u001b[31m46.9 MB/s\u001b[0m eta \u001b[36m0:00:00\u001b[0m\n",
            "\u001b[?25hInstalling collected packages: pymorphy3-dicts-ru, pymorphy3, ru-core-news-sm\n",
            "Successfully installed pymorphy3-2.0.2 pymorphy3-dicts-ru-2.4.417150.4580142 ru-core-news-sm-3.7.0\n",
            "\u001b[38;5;2m✔ Download and installation successful\u001b[0m\n",
            "You can now load the package via spacy.load('ru_core_news_sm')\n",
            "\u001b[38;5;3m⚠ Restart to reload dependencies\u001b[0m\n",
            "If you are in a Jupyter or Colab notebook, you may need to restart Python in\n",
            "order to load all the package's dependencies. You can do this by selecting the\n",
            "'Restart kernel' or 'Restart runtime' option.\n"
          ]
        }
      ]
    },
    {
      "cell_type": "code",
      "source": [
        "import torch\n",
        "from transformers import BertForSequenceClassification, BertTokenizer\n",
        "\n",
        "device = torch.device(\"cuda\" if torch.cuda.is_available() else \"cpu\")\n",
        "\n",
        "# Загружаем обученную модель\n",
        "model = BertForSequenceClassification.from_pretrained(\"bert_model\")\n",
        "model.to(device)\n",
        "model.eval()\n",
        "\n",
        "# Загружаем токенизатор\n",
        "tokenizer = BertTokenizer.from_pretrained(\"bert-base-multilingual-cased\")\n",
        "\n",
        "print(\" Модель успешно загружена!\")\n"
      ],
      "metadata": {
        "id": "Ad4egKvNBRcg",
        "colab": {
          "base_uri": "https://localhost:8080/"
        },
        "outputId": "7cb766e7-68c8-4667-d69b-75a418ee4f98"
      },
      "execution_count": null,
      "outputs": [
        {
          "output_type": "stream",
          "name": "stdout",
          "text": [
            " Модель успешно загружена!\n"
          ]
        }
      ]
    },
    {
      "cell_type": "code",
      "source": [
        "import spacy\n",
        "\n",
        "# Загружаем NLP-модель для русского языка\n",
        "nlp = spacy.load(\"ru_core_news_sm\")\n",
        "\n",
        "def remove_verbs_and_prepositions(text):\n",
        "    \"\"\"Автоматически удаляет глаголы, предлоги и местоимения\"\"\"\n",
        "    doc = nlp(text)\n",
        "    filtered_words = [token.text for token in doc if token.pos_ not in {\"VERB\", \"ADP\", \"PRON\", \"AUX\"}]  # Убираем глаголы, предлоги, местоимения\n",
        "    return \" \".join(filtered_words)\n",
        "\n",
        "# Пример\n",
        "text = \"Машинное обучение используется для анализа данных\"\n",
        "filtered_text = remove_verbs_and_prepositions(text)\n",
        "print(filtered_text)  # Ожидаемый вывод: \"Машинное обучение анализ данных\"\n"
      ],
      "metadata": {
        "colab": {
          "base_uri": "https://localhost:8080/"
        },
        "id": "yGdK6kP6FHqV",
        "outputId": "8c884ae7-ba57-4767-cc90-55b9f54fa42d"
      },
      "execution_count": null,
      "outputs": [
        {
          "output_type": "stream",
          "name": "stdout",
          "text": [
            "Машинное обучение анализа данных\n"
          ]
        }
      ]
    },
    {
      "cell_type": "code",
      "source": [
        "def filter_terms_by_length(results, max_length=5):\n",
        "    \"\"\"Удаляет слишком длинные термины\"\"\"\n",
        "    return {term: results[term] for term in results if len(term.split()) <= max_length}\n",
        "\n",
        "def filter_repeated_terms(results):\n",
        "    \"\"\"Удаляет дублирующиеся термины (чтобы не было одного и того же 10 раз)\"\"\"\n",
        "    filtered = {}\n",
        "    for term in results:\n",
        "        words = term.split()\n",
        "        if len(set(words)) > len(words) / 2:  # Если половина слов повторяется, игнорируем\n",
        "            filtered[term] = results[term]\n",
        "    return filtered\n"
      ],
      "metadata": {
        "id": "L5lAPrcOFKcT"
      },
      "execution_count": null,
      "outputs": []
    },
    {
      "cell_type": "code",
      "source": [
        "from sklearn.feature_extraction.text import TfidfVectorizer\n",
        "\n",
        "def filter_by_tfidf(results, text, threshold=0.05):\n",
        "    \"\"\"Фильтрует термины, которые встречаются слишком часто (TF-IDF)\"\"\"\n",
        "    vectorizer = TfidfVectorizer()\n",
        "    tfidf_matrix = vectorizer.fit_transform([text])\n",
        "    feature_names = vectorizer.get_feature_names_out()\n",
        "    scores = dict(zip(feature_names, tfidf_matrix.toarray()[0]))\n",
        "\n",
        "    filtered_terms = {}\n",
        "    for term in results:\n",
        "        term_words = term.split()\n",
        "        avg_tfidf = sum(scores.get(word, 0) for word in term_words) / len(term_words)\n",
        "        if avg_tfidf >= threshold:\n",
        "            filtered_terms[term] = results[term]\n",
        "\n",
        "    return filtered_terms\n"
      ],
      "metadata": {
        "id": "xTckpchhFPo_"
      },
      "execution_count": null,
      "outputs": []
    },
    {
      "cell_type": "code",
      "source": [
        "import torch\n",
        "from transformers import BertTokenizer, BertForSequenceClassification\n",
        "import torch.nn.functional as F\n",
        "import spacy\n",
        "\n",
        "# Загружаем модель\n",
        "device = torch.device(\"cuda\" if torch.cuda.is_available() else \"cpu\")\n",
        "model = BertForSequenceClassification.from_pretrained(\"bert_model\")\n",
        "model.to(device)\n",
        "model.eval()\n",
        "\n",
        "# Загружаем токенизатор\n",
        "tokenizer = BertTokenizer.from_pretrained(\"bert-base-multilingual-cased\")\n",
        "\n",
        "# Загружаем NLP-модель для русского языка\n",
        "nlp = spacy.load(\"ru_core_news_sm\")\n",
        "\n",
        "# Фильтрация\n",
        "MIN_CONFIDENCE = 0.1\n",
        "MAX_TERM_LENGTH = 7\n",
        "\n",
        "def get_context_window(text, window_size=3):\n",
        "    words = text.split()\n",
        "    context_phrases = []\n",
        "    for i in range(len(words)):\n",
        "        left = max(0, i - window_size)\n",
        "        right = min(len(words), i + window_size + 1)\n",
        "        phrase = \" \".join(words[left:right])\n",
        "        if len(phrase.split()) <= MAX_TERM_LENGTH:\n",
        "            context_phrases.append(phrase)\n",
        "    return context_phrases\n",
        "\n",
        "def remove_verbs_and_prepositions(text):\n",
        "    doc = nlp(text)\n",
        "    return \" \".join([token.text for token in doc if token.pos_ not in {\"VERB\", \"ADP\", \"PRON\", \"AUX\"}])\n",
        "\n",
        "def classify_text_with_context(text, model, tokenizer, device, threshold=0.5):\n",
        "    text = remove_verbs_and_prepositions(text)\n",
        "    context_windows = get_context_window(text, window_size=3)\n",
        "    results = {}\n",
        "\n",
        "    print(\"\\n🔹 **ПРЕДСКАЗАНИЯ ДО ФИЛЬТРАЦИИ:**\")\n",
        "\n",
        "    for phrase in context_windows:\n",
        "        encoded_input = tokenizer.batch_encode_plus([phrase], padding=True, truncation=True, max_length=32, return_tensors=\"pt\")\n",
        "        input_ids = encoded_input[\"input_ids\"].to(device)\n",
        "        attention_mask = encoded_input[\"attention_mask\"].to(device)\n",
        "\n",
        "        with torch.no_grad():\n",
        "            logits = model(input_ids, attention_mask=attention_mask).logits\n",
        "            probs = F.softmax(logits, dim=1)[:, 1].cpu().numpy()\n",
        "\n",
        "        prediction = \"Термин\" if probs[0] >= threshold else \"Не-термин\"\n",
        "        confidence = probs[0]\n",
        "\n",
        "        print(f\"{phrase}: {prediction} (Уверенность: {confidence:.2f})\")\n",
        "\n",
        "        if confidence >= MIN_CONFIDENCE:\n",
        "            results[phrase] = (prediction, confidence)\n",
        "\n",
        "    return results\n",
        "\n",
        "text = input(\"Введите текст для классификации: \")\n",
        "predictions = classify_text_with_context(text, model, tokenizer, device)\n",
        "\n",
        "print(\"\\n🔹 **ИТОГОВЫЕ ТЕРМИНЫ:**\")\n",
        "for phrase, (label, confidence) in predictions.items():\n",
        "    print(f\"{phrase}: {label} (Уверенность: {confidence:.2f})\")\n"
      ],
      "metadata": {
        "colab": {
          "base_uri": "https://localhost:8080/"
        },
        "id": "71rhiuS5FjAM",
        "outputId": "a5af24ed-14ad-4ad7-b1e2-d4ecc45dc575"
      },
      "execution_count": null,
      "outputs": [
        {
          "output_type": "stream",
          "name": "stdout",
          "text": [
            "Введите текст для классификации: Машинное обучение и глубокие нейронные сети активно применяются в биоинформатике, компьютерном зрении и обработке естественного языка. Алгоритмы градиентного спуска позволяют минимизировать функцию ошибки, улучшая точность классификации данных. Например, сверточные нейросети используются для анализа медицинских изобргенажений и диагностики заболеваний. В обработке естественного языка применяются трансформеры, такие как BERT, которые способны генерировать осмысленный текст и анализировать тональность сообщений.\n",
            "\n",
            "🔹 **ПРЕДСКАЗАНИЯ ДО ФИЛЬТРАЦИИ:**\n",
            "Машинное обучение и глубокие: Термин (Уверенность: 1.00)\n",
            "Машинное обучение и глубокие нейронные: Термин (Уверенность: 1.00)\n",
            "Машинное обучение и глубокие нейронные сети: Термин (Уверенность: 1.00)\n",
            "Машинное обучение и глубокие нейронные сети активно: Термин (Уверенность: 1.00)\n",
            "обучение и глубокие нейронные сети активно биоинформатике: Термин (Уверенность: 1.00)\n",
            "и глубокие нейронные сети активно биоинформатике ,: Термин (Уверенность: 1.00)\n",
            "глубокие нейронные сети активно биоинформатике , компьютерном: Термин (Уверенность: 1.00)\n",
            "нейронные сети активно биоинформатике , компьютерном зрении: Термин (Уверенность: 1.00)\n",
            "сети активно биоинформатике , компьютерном зрении и: Термин (Уверенность: 1.00)\n",
            "активно биоинформатике , компьютерном зрении и обработке: Термин (Уверенность: 0.98)\n",
            "биоинформатике , компьютерном зрении и обработке естественного: Термин (Уверенность: 1.00)\n",
            ", компьютерном зрении и обработке естественного языка: Термин (Уверенность: 0.99)\n",
            "компьютерном зрении и обработке естественного языка .: Термин (Уверенность: 0.99)\n",
            "зрении и обработке естественного языка . Алгоритмы: Термин (Уверенность: 1.00)\n",
            "и обработке естественного языка . Алгоритмы градиентного: Термин (Уверенность: 1.00)\n",
            "обработке естественного языка . Алгоритмы градиентного спуска: Термин (Уверенность: 1.00)\n",
            "естественного языка . Алгоритмы градиентного спуска функцию: Термин (Уверенность: 1.00)\n",
            "языка . Алгоритмы градиентного спуска функцию ошибки: Термин (Уверенность: 1.00)\n",
            ". Алгоритмы градиентного спуска функцию ошибки ,: Термин (Уверенность: 1.00)\n",
            "Алгоритмы градиентного спуска функцию ошибки , точность: Термин (Уверенность: 1.00)\n",
            "градиентного спуска функцию ошибки , точность классификации: Термин (Уверенность: 1.00)\n",
            "спуска функцию ошибки , точность классификации данных: Термин (Уверенность: 1.00)\n",
            "функцию ошибки , точность классификации данных .: Термин (Уверенность: 1.00)\n",
            "ошибки , точность классификации данных . Например: Термин (Уверенность: 0.99)\n",
            ", точность классификации данных . Например ,: Термин (Уверенность: 0.60)\n",
            "точность классификации данных . Например , сверточные: Термин (Уверенность: 1.00)\n",
            "классификации данных . Например , сверточные нейросети: Термин (Уверенность: 1.00)\n",
            "данных . Например , сверточные нейросети анализа: Термин (Уверенность: 1.00)\n",
            ". Например , сверточные нейросети анализа медицинских: Термин (Уверенность: 1.00)\n",
            "Например , сверточные нейросети анализа медицинских изобргенажений: Термин (Уверенность: 1.00)\n",
            ", сверточные нейросети анализа медицинских изобргенажений и: Термин (Уверенность: 1.00)\n",
            "сверточные нейросети анализа медицинских изобргенажений и диагностики: Термин (Уверенность: 1.00)\n",
            "нейросети анализа медицинских изобргенажений и диагностики заболеваний: Термин (Уверенность: 1.00)\n",
            "анализа медицинских изобргенажений и диагностики заболеваний .: Термин (Уверенность: 1.00)\n",
            "медицинских изобргенажений и диагностики заболеваний . обработке: Не-термин (Уверенность: 0.43)\n",
            "изобргенажений и диагностики заболеваний . обработке естественного: Термин (Уверенность: 0.95)\n",
            "и диагностики заболеваний . обработке естественного языка: Термин (Уверенность: 0.99)\n",
            "диагностики заболеваний . обработке естественного языка трансформеры: Термин (Уверенность: 1.00)\n",
            "заболеваний . обработке естественного языка трансформеры ,: Термин (Уверенность: 0.99)\n",
            ". обработке естественного языка трансформеры , такие: Термин (Уверенность: 0.97)\n",
            "обработке естественного языка трансформеры , такие как: Термин (Уверенность: 0.99)\n",
            "естественного языка трансформеры , такие как BERT: Термин (Уверенность: 1.00)\n",
            "языка трансформеры , такие как BERT ,: Термин (Уверенность: 1.00)\n",
            "трансформеры , такие как BERT , способны: Термин (Уверенность: 0.95)\n",
            ", такие как BERT , способны осмысленный: Не-термин (Уверенность: 0.02)\n",
            "такие как BERT , способны осмысленный текст: Термин (Уверенность: 1.00)\n",
            "как BERT , способны осмысленный текст и: Не-термин (Уверенность: 0.09)\n",
            "BERT , способны осмысленный текст и тональность: Термин (Уверенность: 0.70)\n",
            ", способны осмысленный текст и тональность сообщений: Термин (Уверенность: 0.99)\n",
            "способны осмысленный текст и тональность сообщений .: Термин (Уверенность: 0.99)\n",
            "осмысленный текст и тональность сообщений .: Термин (Уверенность: 0.99)\n",
            "текст и тональность сообщений .: Термин (Уверенность: 0.92)\n",
            "и тональность сообщений .: Не-термин (Уверенность: 0.00)\n",
            "\n",
            "🔹 **ИТОГОВЫЕ ТЕРМИНЫ:**\n",
            "Машинное обучение и глубокие: Термин (Уверенность: 1.00)\n",
            "Машинное обучение и глубокие нейронные: Термин (Уверенность: 1.00)\n",
            "Машинное обучение и глубокие нейронные сети: Термин (Уверенность: 1.00)\n",
            "Машинное обучение и глубокие нейронные сети активно: Термин (Уверенность: 1.00)\n",
            "обучение и глубокие нейронные сети активно биоинформатике: Термин (Уверенность: 1.00)\n",
            "и глубокие нейронные сети активно биоинформатике ,: Термин (Уверенность: 1.00)\n",
            "глубокие нейронные сети активно биоинформатике , компьютерном: Термин (Уверенность: 1.00)\n",
            "нейронные сети активно биоинформатике , компьютерном зрении: Термин (Уверенность: 1.00)\n",
            "сети активно биоинформатике , компьютерном зрении и: Термин (Уверенность: 1.00)\n",
            "активно биоинформатике , компьютерном зрении и обработке: Термин (Уверенность: 0.98)\n",
            "биоинформатике , компьютерном зрении и обработке естественного: Термин (Уверенность: 1.00)\n",
            ", компьютерном зрении и обработке естественного языка: Термин (Уверенность: 0.99)\n",
            "компьютерном зрении и обработке естественного языка .: Термин (Уверенность: 0.99)\n",
            "зрении и обработке естественного языка . Алгоритмы: Термин (Уверенность: 1.00)\n",
            "и обработке естественного языка . Алгоритмы градиентного: Термин (Уверенность: 1.00)\n",
            "обработке естественного языка . Алгоритмы градиентного спуска: Термин (Уверенность: 1.00)\n",
            "естественного языка . Алгоритмы градиентного спуска функцию: Термин (Уверенность: 1.00)\n",
            "языка . Алгоритмы градиентного спуска функцию ошибки: Термин (Уверенность: 1.00)\n",
            ". Алгоритмы градиентного спуска функцию ошибки ,: Термин (Уверенность: 1.00)\n",
            "Алгоритмы градиентного спуска функцию ошибки , точность: Термин (Уверенность: 1.00)\n",
            "градиентного спуска функцию ошибки , точность классификации: Термин (Уверенность: 1.00)\n",
            "спуска функцию ошибки , точность классификации данных: Термин (Уверенность: 1.00)\n",
            "функцию ошибки , точность классификации данных .: Термин (Уверенность: 1.00)\n",
            "ошибки , точность классификации данных . Например: Термин (Уверенность: 0.99)\n",
            ", точность классификации данных . Например ,: Термин (Уверенность: 0.60)\n",
            "точность классификации данных . Например , сверточные: Термин (Уверенность: 1.00)\n",
            "классификации данных . Например , сверточные нейросети: Термин (Уверенность: 1.00)\n",
            "данных . Например , сверточные нейросети анализа: Термин (Уверенность: 1.00)\n",
            ". Например , сверточные нейросети анализа медицинских: Термин (Уверенность: 1.00)\n",
            "Например , сверточные нейросети анализа медицинских изобргенажений: Термин (Уверенность: 1.00)\n",
            ", сверточные нейросети анализа медицинских изобргенажений и: Термин (Уверенность: 1.00)\n",
            "сверточные нейросети анализа медицинских изобргенажений и диагностики: Термин (Уверенность: 1.00)\n",
            "нейросети анализа медицинских изобргенажений и диагностики заболеваний: Термин (Уверенность: 1.00)\n",
            "анализа медицинских изобргенажений и диагностики заболеваний .: Термин (Уверенность: 1.00)\n",
            "медицинских изобргенажений и диагностики заболеваний . обработке: Не-термин (Уверенность: 0.43)\n",
            "изобргенажений и диагностики заболеваний . обработке естественного: Термин (Уверенность: 0.95)\n",
            "и диагностики заболеваний . обработке естественного языка: Термин (Уверенность: 0.99)\n",
            "диагностики заболеваний . обработке естественного языка трансформеры: Термин (Уверенность: 1.00)\n",
            "заболеваний . обработке естественного языка трансформеры ,: Термин (Уверенность: 0.99)\n",
            ". обработке естественного языка трансформеры , такие: Термин (Уверенность: 0.97)\n",
            "обработке естественного языка трансформеры , такие как: Термин (Уверенность: 0.99)\n",
            "естественного языка трансформеры , такие как BERT: Термин (Уверенность: 1.00)\n",
            "языка трансформеры , такие как BERT ,: Термин (Уверенность: 1.00)\n",
            "трансформеры , такие как BERT , способны: Термин (Уверенность: 0.95)\n",
            "такие как BERT , способны осмысленный текст: Термин (Уверенность: 1.00)\n",
            "BERT , способны осмысленный текст и тональность: Термин (Уверенность: 0.70)\n",
            ", способны осмысленный текст и тональность сообщений: Термин (Уверенность: 0.99)\n",
            "способны осмысленный текст и тональность сообщений .: Термин (Уверенность: 0.99)\n",
            "осмысленный текст и тональность сообщений .: Термин (Уверенность: 0.99)\n",
            "текст и тональность сообщений .: Термин (Уверенность: 0.92)\n"
          ]
        }
      ]
    },
    {
      "cell_type": "code",
      "source": [
        "import torch\n",
        "from transformers import BertTokenizer, BertForSequenceClassification\n",
        "import torch.nn.functional as F\n",
        "import spacy\n",
        "import pymorphy3\n",
        "\n",
        "# 🔥 Загружаем модель\n",
        "device = torch.device(\"cuda\" if torch.cuda.is_available() else \"cpu\")\n",
        "model = BertForSequenceClassification.from_pretrained(\"bert_model\")\n",
        "model.to(device)\n",
        "model.eval()\n",
        "\n",
        "# Загружаем токенизатор\n",
        "tokenizer = BertTokenizer.from_pretrained(\"bert-base-multilingual-cased\")\n",
        "\n",
        "# Загружаем NLP-модель для русского языка\n",
        "nlp = spacy.load(\"ru_core_news_sm\")\n",
        "\n",
        "# Загружаем морфологический анализатор\n",
        "morph = pymorphy3.MorphAnalyzer()\n",
        "\n",
        "# Минимальный порог уверенности\n",
        "MIN_CONFIDENCE = 0.15\n",
        "\n",
        "def normalize_word(word):\n",
        "    \"\"\"Лемматизирует слово (приводит к начальной форме)\"\"\"\n",
        "    return morph.parse(word)[0].normal_form\n",
        "\n",
        "def classify_single_words(text, model, tokenizer, device, threshold=0.5):\n",
        "    \"\"\"Классифицирует только отдельные слова\"\"\"\n",
        "    doc = nlp(text)\n",
        "    words = [token.text for token in doc if token.is_alpha]  # Оставляем только слова (убираем запятые, точки)\n",
        "\n",
        "    results = {}\n",
        "\n",
        "    print(\"\\n🔹 **ПРЕДСКАЗАНИЯ ДЛЯ ОДИНОЧНЫХ СЛОВ:**\")\n",
        "\n",
        "    for word in words:\n",
        "        normalized_word = normalize_word(word)  # Лемматизация слова\n",
        "\n",
        "        # Пропускаем слишком короткие слова\n",
        "        if len(normalized_word) <= 3:\n",
        "            continue\n",
        "\n",
        "        encoded_input = tokenizer.batch_encode_plus([normalized_word], padding=True, truncation=True, max_length=32, return_tensors=\"pt\")\n",
        "        input_ids = encoded_input[\"input_ids\"].to(device)\n",
        "        attention_mask = encoded_input[\"attention_mask\"].to(device)\n",
        "\n",
        "        with torch.no_grad():\n",
        "            logits = model(input_ids, attention_mask=attention_mask).logits\n",
        "            probs = F.softmax(logits, dim=1)[:, 1].cpu().numpy()\n",
        "\n",
        "        prediction = \"Термин\" if probs[0] >= threshold else \"Не-термин\"\n",
        "        confidence = probs[0]\n",
        "\n",
        "        print(f\"{normalized_word}: {prediction} (Уверенность: {confidence:.2f})\")\n",
        "\n",
        "        if confidence >= MIN_CONFIDENCE:\n",
        "            results[normalized_word] = (prediction, confidence)\n",
        "\n",
        "    return results\n",
        "\n",
        "text = input(\"Введите текст для классификации: \")\n",
        "predictions = classify_single_words(text, model, tokenizer, device)\n",
        "\n",
        "print(\"\\n🔹 **ИТОГОВЫЕ ОДИНОЧНЫЕ СЛОВА:**\")\n",
        "for word, (label, confidence) in predictions.items():\n",
        "    print(f\"{word}: {label} (Уверенность: {confidence:.2f})\")\n"
      ],
      "metadata": {
        "colab": {
          "base_uri": "https://localhost:8080/"
        },
        "id": "oWECKMM8HZ9R",
        "outputId": "dfde5aeb-4973-4812-c884-72ff8d4befb5"
      },
      "execution_count": null,
      "outputs": [
        {
          "output_type": "stream",
          "name": "stdout",
          "text": [
            "Введите текст для классификации: Машинное обучение и глубокие нейронные сети активно применяются в биоинформатике, компьютерном зрении и обработке естественного языка. Алгоритмы градиентного спуска позволяют минимизировать функцию ошибки, улучшая точность классификации данных. Например, сверточные нейросети используются для анализа медицинских изобргенажений и диагностики заболеваний. В обработке естественного языка применяются трансформеры, такие как BERT, которые способны генерировать осмысленный текст и анализировать тональность сообщений.\n",
            "\n",
            "🔹 **ПРЕДСКАЗАНИЯ ДЛЯ ОДИНОЧНЫХ СЛОВ:**\n",
            "машинный: Не-термин (Уверенность: 0.00)\n",
            "обучение: Не-термин (Уверенность: 0.00)\n",
            "глубокий: Не-термин (Уверенность: 0.00)\n",
            "нейронный: Не-термин (Уверенность: 0.00)\n",
            "сеть: Не-термин (Уверенность: 0.00)\n",
            "активно: Не-термин (Уверенность: 0.00)\n",
            "применяться: Не-термин (Уверенность: 0.00)\n",
            "биоинформатика: Термин (Уверенность: 1.00)\n",
            "компьютерный: Не-термин (Уверенность: 0.00)\n",
            "зрение: Не-термин (Уверенность: 0.00)\n",
            "обработка: Не-термин (Уверенность: 0.00)\n",
            "естественный: Не-термин (Уверенность: 0.00)\n",
            "язык: Не-термин (Уверенность: 0.00)\n",
            "алгоритм: Термин (Уверенность: 0.98)\n",
            "градиентный: Не-термин (Уверенность: 0.00)\n",
            "спуск: Не-термин (Уверенность: 0.00)\n",
            "позволять: Не-термин (Уверенность: 0.00)\n",
            "минимизировать: Не-термин (Уверенность: 0.00)\n",
            "функция: Не-термин (Уверенность: 0.31)\n",
            "ошибка: Не-термин (Уверенность: 0.00)\n",
            "улучшать: Не-термин (Уверенность: 0.00)\n",
            "точность: Не-термин (Уверенность: 0.00)\n",
            "классификация: Не-термин (Уверенность: 0.00)\n",
            "данные: Не-термин (Уверенность: 0.00)\n",
            "например: Не-термин (Уверенность: 0.00)\n",
            "сверточный: Не-термин (Уверенность: 0.00)\n",
            "нейросеть: Не-термин (Уверенность: 0.00)\n",
            "использоваться: Не-термин (Уверенность: 0.00)\n",
            "анализ: Термин (Уверенность: 0.93)\n",
            "медицинский: Не-термин (Уверенность: 0.00)\n",
            "изобргенажение: Не-термин (Уверенность: 0.00)\n",
            "диагностика: Не-термин (Уверенность: 0.00)\n",
            "заболевание: Не-термин (Уверенность: 0.00)\n",
            "обработка: Не-термин (Уверенность: 0.00)\n",
            "естественный: Не-термин (Уверенность: 0.00)\n",
            "язык: Не-термин (Уверенность: 0.00)\n",
            "применяться: Не-термин (Уверенность: 0.00)\n",
            "трансформера: Не-термин (Уверенность: 0.00)\n",
            "такой: Не-термин (Уверенность: 0.00)\n",
            "bert: Не-термин (Уверенность: 0.00)\n",
            "который: Не-термин (Уверенность: 0.00)\n",
            "способный: Не-термин (Уверенность: 0.00)\n",
            "генерировать: Не-термин (Уверенность: 0.00)\n",
            "осмыслить: Не-термин (Уверенность: 0.00)\n",
            "текст: Не-термин (Уверенность: 0.00)\n",
            "анализировать: Не-термин (Уверенность: 0.00)\n",
            "тональность: Не-термин (Уверенность: 0.00)\n",
            "сообщение: Не-термин (Уверенность: 0.00)\n",
            "\n",
            "🔹 **ИТОГОВЫЕ ОДИНОЧНЫЕ СЛОВА:**\n",
            "биоинформатика: Термин (Уверенность: 1.00)\n",
            "алгоритм: Термин (Уверенность: 0.98)\n",
            "функция: Не-термин (Уверенность: 0.31)\n",
            "анализ: Термин (Уверенность: 0.93)\n"
          ]
        }
      ]
    },
    {
      "cell_type": "code",
      "source": [
        "import nltk\n",
        "nltk.download(\"punkt\")\n",
        "nltk.data.path.append(\"/usr/local/share/nltk_data\")  # Указываем правильный путь\n"
      ],
      "metadata": {
        "colab": {
          "base_uri": "https://localhost:8080/"
        },
        "id": "AXUsOcW1JCz_",
        "outputId": "51241a34-f349-449d-b6b5-d5b1b0d64ea7"
      },
      "execution_count": null,
      "outputs": [
        {
          "output_type": "stream",
          "name": "stderr",
          "text": [
            "[nltk_data] Downloading package punkt to /root/nltk_data...\n",
            "[nltk_data]   Package punkt is already up-to-date!\n"
          ]
        }
      ]
    },
    {
      "cell_type": "code",
      "source": [
        "!pip install nltk\n",
        "import nltk\n",
        "nltk.download('punkt_tab')\n",
        "from nltk.tokenize import word_tokenize\n",
        "print(word_tokenize(\"Машинное обучение используется в анализе данных\"))"
      ],
      "metadata": {
        "id": "NP_0IIe3Ji6q",
        "colab": {
          "base_uri": "https://localhost:8080/"
        },
        "outputId": "fa637a9d-57d0-4a05-b746-64d2d5b8d545"
      },
      "execution_count": null,
      "outputs": [
        {
          "output_type": "stream",
          "name": "stdout",
          "text": [
            "Requirement already satisfied: nltk in /usr/local/lib/python3.11/dist-packages (3.9.1)\n",
            "Requirement already satisfied: click in /usr/local/lib/python3.11/dist-packages (from nltk) (8.1.8)\n",
            "Requirement already satisfied: joblib in /usr/local/lib/python3.11/dist-packages (from nltk) (1.4.2)\n",
            "Requirement already satisfied: regex>=2021.8.3 in /usr/local/lib/python3.11/dist-packages (from nltk) (2024.11.6)\n",
            "Requirement already satisfied: tqdm in /usr/local/lib/python3.11/dist-packages (from nltk) (4.67.1)\n"
          ]
        },
        {
          "output_type": "stream",
          "name": "stderr",
          "text": [
            "[nltk_data] Downloading package punkt_tab to /root/nltk_data...\n"
          ]
        },
        {
          "output_type": "stream",
          "name": "stdout",
          "text": [
            "['Машинное', 'обучение', 'используется', 'в', 'анализе', 'данных']\n"
          ]
        },
        {
          "output_type": "stream",
          "name": "stderr",
          "text": [
            "[nltk_data]   Unzipping tokenizers/punkt_tab.zip.\n"
          ]
        }
      ]
    },
    {
      "cell_type": "code",
      "source": [
        "from gensim.models import Word2Vec\n",
        "import pandas as pd\n",
        "from nltk.tokenize import word_tokenize\n",
        "\n",
        "# Загружаем датасет\n",
        "df = pd.read_csv(\"dataset.csv\")\n",
        "\n",
        "# Токенизация текста для обучения модели\n",
        "sentences = [word_tokenize(text) for text in df[\"word\"]]\n",
        "\n",
        "# Обучаем Word2Vec\n",
        "w2v_model = Word2Vec(sentences, vector_size=100, window=5, min_count=2, workers=4)\n",
        "w2v_model.save(\"word2vec.model\")\n",
        "\n",
        "print(\"✅ Word2Vec успешно обучен и сохранён!\")\n"
      ],
      "metadata": {
        "colab": {
          "base_uri": "https://localhost:8080/"
        },
        "id": "bMjPuRGCKwtQ",
        "outputId": "17728ff5-0df5-4a42-c210-354c1cc3912a"
      },
      "execution_count": null,
      "outputs": [
        {
          "output_type": "stream",
          "name": "stdout",
          "text": [
            "✅ Word2Vec успешно обучен и сохранён!\n"
          ]
        }
      ]
    },
    {
      "cell_type": "code",
      "source": [
        "import torch\n",
        "from transformers import BertTokenizer, BertForSequenceClassification\n",
        "import torch.nn.functional as F\n",
        "import spacy\n",
        "import pymorphy3\n",
        "from gensim.models import Word2Vec\n",
        "\n",
        "#  Загружаем модели\n",
        "device = torch.device(\"cuda\" if torch.cuda.is_available() else \"cpu\")\n",
        "bert_model = BertForSequenceClassification.from_pretrained(\"bert_model\")\n",
        "bert_model.to(device)\n",
        "bert_model.eval()\n",
        "\n",
        "# Загружаем токенизатор\n",
        "tokenizer = BertTokenizer.from_pretrained(\"bert-base-multilingual-cased\")\n",
        "\n",
        "# Загружаем Word2Vec\n",
        "w2v_model = Word2Vec.load(\"word2vec.model\")\n",
        "\n",
        "# Загружаем NLP-модели\n",
        "nlp = spacy.load(\"ru_core_news_sm\")\n",
        "morph = pymorphy3.MorphAnalyzer()\n",
        "\n",
        "# Минимальный порог уверенности\n",
        "MIN_CONFIDENCE = 0.1\n",
        "\n",
        "def normalize_word(word):\n",
        "    \"\"\"Лемматизирует слово (приводит к начальной форме)\"\"\"\n",
        "    return morph.parse(word)[0].normal_form\n",
        "\n",
        "def classify_single_words_with_bert(text, model, tokenizer, device, threshold=0.5):\n",
        "    \"\"\"Классифицирует одиночные слова через BERT\"\"\"\n",
        "    doc = nlp(text)\n",
        "    words = [token.text for token in doc if token.is_alpha]\n",
        "    results = {}\n",
        "\n",
        "    print(\"\\n🔹 **BERT - Предсказания одиночных слов:**\")\n",
        "\n",
        "    for word in words:\n",
        "        normalized_word = normalize_word(word)\n",
        "\n",
        "        if len(normalized_word) <= 3:\n",
        "            continue\n",
        "\n",
        "        encoded_input = tokenizer.batch_encode_plus([normalized_word], padding=True, truncation=True, max_length=32, return_tensors=\"pt\")\n",
        "        input_ids = encoded_input[\"input_ids\"].to(device)\n",
        "        attention_mask = encoded_input[\"attention_mask\"].to(device)\n",
        "\n",
        "        with torch.no_grad():\n",
        "            logits = model(input_ids, attention_mask=attention_mask).logits\n",
        "            probs = F.softmax(logits, dim=1)[:, 1].cpu().numpy()\n",
        "\n",
        "        prediction = \"Термин\" if probs[0] >= threshold else \"Не-термин\"\n",
        "        confidence = probs[0]\n",
        "\n",
        "        print(f\"{normalized_word}: {prediction} (Уверенность: {confidence:.2f})\")\n",
        "\n",
        "        if confidence >= MIN_CONFIDENCE:\n",
        "            results[normalized_word] = (prediction, confidence)\n",
        "\n",
        "    return results\n",
        "\n",
        "def classify_single_words_with_w2v(text, w2v_model):\n",
        "    \"\"\"Классифицирует одиночные слова через Word2Vec\"\"\"\n",
        "    doc = nlp(text)\n",
        "    words = [token.text for token in doc if token.is_alpha]\n",
        "    results = {}\n",
        "\n",
        "    print(\"\\n🔹 **Word2Vec - Предсказания одиночных слов:**\")\n",
        "\n",
        "    for word in words:\n",
        "        normalized_word = normalize_word(word)\n",
        "\n",
        "        if len(normalized_word) <= 3:\n",
        "            continue\n",
        "\n",
        "        # Проверяем, есть ли слово в модели Word2Vec\n",
        "        if normalized_word not in w2v_model.wv:\n",
        "            print(f\" Слово '{normalized_word}' отсутствует в Word2Vec. Пропускаем его.\")\n",
        "            continue\n",
        "\n",
        "        # Если \"термин\" нет в модели, используем ближайшее слово\n",
        "        if \"термин\" not in w2v_model.wv:\n",
        "            closest_word = w2v_model.wv.most_similar(positive=[normalized_word], topn=1)[0][0]\n",
        "            similarity = w2v_model.wv.similarity(normalized_word, closest_word)\n",
        "        else:\n",
        "            similarity = w2v_model.wv.similarity(normalized_word, \"термин\")\n",
        "\n",
        "        prediction = \"Термин\" if similarity > 0.5 else \"Не-термин\"\n",
        "        confidence = similarity\n",
        "\n",
        "        print(f\"{normalized_word}: {prediction} (Уверенность: {confidence:.2f})\")\n",
        "\n",
        "        if confidence >= MIN_CONFIDENCE:\n",
        "            results[normalized_word] = (prediction, confidence)\n",
        "\n",
        "    return results\n",
        "\n",
        "\n",
        "\n",
        "text = input(\"Введите текст для классификации: \")\n",
        "\n",
        "#  Запускаем BERT\n",
        "bert_predictions = classify_single_words_with_bert(text, bert_model, tokenizer, device)\n",
        "\n",
        "#  Запускаем Word2Vec\n",
        "w2v_predictions = classify_single_words_with_w2v(text, w2v_model)\n",
        "\n",
        "#  Сравнение результатов\n",
        "print(\"\\n🔹 **Сравнение BERT vs Word2Vec**\")\n",
        "for word in set(bert_predictions.keys()).union(set(w2v_predictions.keys())):\n",
        "    bert_label = bert_predictions.get(word, (\"Не найдено\", 0.0))\n",
        "    w2v_label = w2v_predictions.get(word, (\"Не найдено\", 0.0))\n",
        "    print(f\"{word}: BERT -> {bert_label[0]} ({bert_label[1]:.2f}), Word2Vec -> {w2v_label[0]} ({w2v_label[1]:.2f})\")\n"
      ],
      "metadata": {
        "colab": {
          "base_uri": "https://localhost:8080/"
        },
        "id": "r8dlXndyLEQw",
        "outputId": "bdcfc25a-e3ad-4f77-8e66-7dd390a857ef"
      },
      "execution_count": null,
      "outputs": [
        {
          "output_type": "stream",
          "name": "stderr",
          "text": [
            "/usr/local/lib/python3.11/dist-packages/spacy/util.py:1740: UserWarning: [W111] Jupyter notebook detected: if using `prefer_gpu()` or `require_gpu()`, include it in the same cell right before `spacy.load()` to ensure that the model is loaded on the correct device. More information: http://spacy.io/usage/v3#jupyter-notebook-gpu\n",
            "  warnings.warn(Warnings.W111)\n"
          ]
        },
        {
          "output_type": "stream",
          "name": "stdout",
          "text": [
            "Введите текст для классификации: Машинное обучение и глубокие нейронные сети активно применяются в биоинформатике, компьютерном зрении и обработке естественного языка. Алгоритмы градиентного спуска позволяют минимизировать функцию ошибки, улучшая точность классификации данных. Например, сверточные нейросети используются для анализа медицинских изобргенажений и диагностики заболеваний. В обработке естественного языка применяются трансформеры, такие как BERT, которые способны генерировать осмысленный текст и анализировать тональность сообщений.\n",
            "\n",
            "🔹 **BERT - Предсказания одиночных слов:**\n",
            "машинный: Не-термин (Уверенность: 0.00)\n",
            "обучение: Не-термин (Уверенность: 0.00)\n",
            "глубокий: Не-термин (Уверенность: 0.00)\n",
            "нейронный: Не-термин (Уверенность: 0.00)\n",
            "сеть: Не-термин (Уверенность: 0.00)\n",
            "активно: Не-термин (Уверенность: 0.00)\n",
            "применяться: Не-термин (Уверенность: 0.00)\n",
            "биоинформатика: Термин (Уверенность: 1.00)\n",
            "компьютерный: Не-термин (Уверенность: 0.00)\n",
            "зрение: Не-термин (Уверенность: 0.00)\n",
            "обработка: Не-термин (Уверенность: 0.00)\n",
            "естественный: Не-термин (Уверенность: 0.00)\n",
            "язык: Не-термин (Уверенность: 0.00)\n",
            "алгоритм: Термин (Уверенность: 0.98)\n",
            "градиентный: Не-термин (Уверенность: 0.00)\n",
            "спуск: Не-термин (Уверенность: 0.00)\n",
            "позволять: Не-термин (Уверенность: 0.00)\n",
            "минимизировать: Не-термин (Уверенность: 0.00)\n",
            "функция: Не-термин (Уверенность: 0.31)\n",
            "ошибка: Не-термин (Уверенность: 0.00)\n",
            "улучшать: Не-термин (Уверенность: 0.00)\n",
            "точность: Не-термин (Уверенность: 0.00)\n",
            "классификация: Не-термин (Уверенность: 0.00)\n",
            "данные: Не-термин (Уверенность: 0.00)\n",
            "например: Не-термин (Уверенность: 0.00)\n",
            "сверточный: Не-термин (Уверенность: 0.00)\n",
            "нейросеть: Не-термин (Уверенность: 0.00)\n",
            "использоваться: Не-термин (Уверенность: 0.00)\n",
            "анализ: Термин (Уверенность: 0.93)\n",
            "медицинский: Не-термин (Уверенность: 0.00)\n",
            "изобргенажение: Не-термин (Уверенность: 0.00)\n",
            "диагностика: Не-термин (Уверенность: 0.00)\n",
            "заболевание: Не-термин (Уверенность: 0.00)\n",
            "обработка: Не-термин (Уверенность: 0.00)\n",
            "естественный: Не-термин (Уверенность: 0.00)\n",
            "язык: Не-термин (Уверенность: 0.00)\n",
            "применяться: Не-термин (Уверенность: 0.00)\n",
            "трансформера: Не-термин (Уверенность: 0.00)\n",
            "такой: Не-термин (Уверенность: 0.00)\n",
            "bert: Не-термин (Уверенность: 0.00)\n",
            "который: Не-термин (Уверенность: 0.00)\n",
            "способный: Не-термин (Уверенность: 0.00)\n",
            "генерировать: Не-термин (Уверенность: 0.00)\n",
            "осмыслить: Не-термин (Уверенность: 0.00)\n",
            "текст: Не-термин (Уверенность: 0.00)\n",
            "анализировать: Не-термин (Уверенность: 0.00)\n",
            "тональность: Не-термин (Уверенность: 0.00)\n",
            "сообщение: Не-термин (Уверенность: 0.00)\n",
            "\n",
            "🔹 **Word2Vec - Предсказания одиночных слов:**\n",
            "машинный: Не-термин (Уверенность: 0.28)\n",
            "обучение: Не-термин (Уверенность: 0.31)\n",
            " Слово 'глубокий' отсутствует в Word2Vec. Пропускаем его.\n",
            " Слово 'нейронный' отсутствует в Word2Vec. Пропускаем его.\n",
            " Слово 'сеть' отсутствует в Word2Vec. Пропускаем его.\n",
            " Слово 'активно' отсутствует в Word2Vec. Пропускаем его.\n",
            " Слово 'применяться' отсутствует в Word2Vec. Пропускаем его.\n",
            "биоинформатика: Не-термин (Уверенность: 0.39)\n",
            " Слово 'компьютерный' отсутствует в Word2Vec. Пропускаем его.\n",
            "зрение: Не-термин (Уверенность: 0.26)\n",
            "обработка: Не-термин (Уверенность: 0.31)\n",
            " Слово 'естественный' отсутствует в Word2Vec. Пропускаем его.\n",
            " Слово 'язык' отсутствует в Word2Vec. Пропускаем его.\n",
            "алгоритм: Не-термин (Уверенность: 0.27)\n",
            "градиентный: Не-термин (Уверенность: 0.28)\n",
            "спуск: Не-термин (Уверенность: 0.29)\n",
            " Слово 'позволять' отсутствует в Word2Vec. Пропускаем его.\n",
            " Слово 'минимизировать' отсутствует в Word2Vec. Пропускаем его.\n",
            " Слово 'функция' отсутствует в Word2Vec. Пропускаем его.\n",
            " Слово 'ошибка' отсутствует в Word2Vec. Пропускаем его.\n",
            " Слово 'улучшать' отсутствует в Word2Vec. Пропускаем его.\n",
            " Слово 'точность' отсутствует в Word2Vec. Пропускаем его.\n",
            " Слово 'классификация' отсутствует в Word2Vec. Пропускаем его.\n",
            "данные: Не-термин (Уверенность: 0.35)\n",
            "например: Не-термин (Уверенность: 0.31)\n",
            " Слово 'сверточный' отсутствует в Word2Vec. Пропускаем его.\n",
            " Слово 'нейросеть' отсутствует в Word2Vec. Пропускаем его.\n",
            " Слово 'использоваться' отсутствует в Word2Vec. Пропускаем его.\n",
            "анализ: Не-термин (Уверенность: 0.29)\n",
            " Слово 'медицинский' отсутствует в Word2Vec. Пропускаем его.\n",
            " Слово 'изобргенажение' отсутствует в Word2Vec. Пропускаем его.\n",
            "диагностика: Не-термин (Уверенность: 0.25)\n",
            " Слово 'заболевание' отсутствует в Word2Vec. Пропускаем его.\n",
            "обработка: Не-термин (Уверенность: 0.31)\n",
            " Слово 'естественный' отсутствует в Word2Vec. Пропускаем его.\n",
            " Слово 'язык' отсутствует в Word2Vec. Пропускаем его.\n",
            " Слово 'применяться' отсутствует в Word2Vec. Пропускаем его.\n",
            " Слово 'трансформера' отсутствует в Word2Vec. Пропускаем его.\n",
            " Слово 'такой' отсутствует в Word2Vec. Пропускаем его.\n",
            " Слово 'bert' отсутствует в Word2Vec. Пропускаем его.\n",
            " Слово 'который' отсутствует в Word2Vec. Пропускаем его.\n",
            " Слово 'способный' отсутствует в Word2Vec. Пропускаем его.\n",
            " Слово 'генерировать' отсутствует в Word2Vec. Пропускаем его.\n",
            " Слово 'осмыслить' отсутствует в Word2Vec. Пропускаем его.\n",
            " Слово 'текст' отсутствует в Word2Vec. Пропускаем его.\n",
            "анализировать: Не-термин (Уверенность: 0.24)\n",
            " Слово 'тональность' отсутствует в Word2Vec. Пропускаем его.\n",
            " Слово 'сообщение' отсутствует в Word2Vec. Пропускаем его.\n",
            "\n",
            "🔹 **Сравнение BERT vs Word2Vec**\n",
            "функция: BERT -> Не-термин (0.31), Word2Vec -> Не найдено (0.00)\n",
            "диагностика: BERT -> Не найдено (0.00), Word2Vec -> Не-термин (0.25)\n",
            "градиентный: BERT -> Не найдено (0.00), Word2Vec -> Не-термин (0.28)\n",
            "биоинформатика: BERT -> Термин (1.00), Word2Vec -> Не-термин (0.39)\n",
            "обработка: BERT -> Не найдено (0.00), Word2Vec -> Не-термин (0.31)\n",
            "анализировать: BERT -> Не найдено (0.00), Word2Vec -> Не-термин (0.24)\n",
            "машинный: BERT -> Не найдено (0.00), Word2Vec -> Не-термин (0.28)\n",
            "анализ: BERT -> Термин (0.93), Word2Vec -> Не-термин (0.29)\n",
            "обучение: BERT -> Не найдено (0.00), Word2Vec -> Не-термин (0.31)\n",
            "алгоритм: BERT -> Термин (0.98), Word2Vec -> Не-термин (0.27)\n",
            "данные: BERT -> Не найдено (0.00), Word2Vec -> Не-термин (0.35)\n",
            "зрение: BERT -> Не найдено (0.00), Word2Vec -> Не-термин (0.26)\n",
            "спуск: BERT -> Не найдено (0.00), Word2Vec -> Не-термин (0.29)\n",
            "например: BERT -> Не найдено (0.00), Word2Vec -> Не-термин (0.31)\n"
          ]
        }
      ]
    },
    {
      "cell_type": "code",
      "source": [
        "pip install fasttext\n"
      ],
      "metadata": {
        "colab": {
          "base_uri": "https://localhost:8080/"
        },
        "id": "3-ujVGrLMolL",
        "outputId": "1158eae2-80a2-41bf-acdd-4816b6aa0143"
      },
      "execution_count": null,
      "outputs": [
        {
          "output_type": "stream",
          "name": "stdout",
          "text": [
            "Collecting fasttext\n",
            "  Downloading fasttext-0.9.3.tar.gz (73 kB)\n",
            "\u001b[?25l     \u001b[90m━━━━━━━━━━━━━━━━━━━━━━━━━━━━━━━━━━━━━━━━\u001b[0m \u001b[32m0.0/73.4 kB\u001b[0m \u001b[31m?\u001b[0m eta \u001b[36m-:--:--\u001b[0m\r\u001b[2K     \u001b[91m━━━━━━━━━━━━━━━━━━━━━━━━━━━━━━━━━━━━━━━\u001b[0m\u001b[90m╺\u001b[0m \u001b[32m71.7/73.4 kB\u001b[0m \u001b[31m2.3 MB/s\u001b[0m eta \u001b[36m0:00:01\u001b[0m\r\u001b[2K     \u001b[90m━━━━━━━━━━━━━━━━━━━━━━━━━━━━━━━━━━━━━━━━\u001b[0m \u001b[32m73.4/73.4 kB\u001b[0m \u001b[31m1.7 MB/s\u001b[0m eta \u001b[36m0:00:00\u001b[0m\n",
            "\u001b[?25h  Installing build dependencies ... \u001b[?25l\u001b[?25hdone\n",
            "  Getting requirements to build wheel ... \u001b[?25l\u001b[?25hdone\n",
            "  Preparing metadata (pyproject.toml) ... \u001b[?25l\u001b[?25hdone\n",
            "Collecting pybind11>=2.2 (from fasttext)\n",
            "  Using cached pybind11-2.13.6-py3-none-any.whl.metadata (9.5 kB)\n",
            "Requirement already satisfied: setuptools>=0.7.0 in /usr/local/lib/python3.11/dist-packages (from fasttext) (75.1.0)\n",
            "Requirement already satisfied: numpy in /usr/local/lib/python3.11/dist-packages (from fasttext) (1.26.4)\n",
            "Using cached pybind11-2.13.6-py3-none-any.whl (243 kB)\n",
            "Building wheels for collected packages: fasttext\n",
            "  Building wheel for fasttext (pyproject.toml) ... \u001b[?25l\u001b[?25hdone\n",
            "  Created wheel for fasttext: filename=fasttext-0.9.3-cp311-cp311-linux_x86_64.whl size=4313474 sha256=7ea1097f84e4149ba9ec66704b6675da99ed6cac0a393bb02eee6f12f7a9917f\n",
            "  Stored in directory: /root/.cache/pip/wheels/65/4f/35/5057db0249224e9ab55a513fa6b79451473ceb7713017823c3\n",
            "Successfully built fasttext\n",
            "Installing collected packages: pybind11, fasttext\n",
            "Successfully installed fasttext-0.9.3 pybind11-2.13.6\n"
          ]
        }
      ]
    },
    {
      "cell_type": "code",
      "source": [
        "!wget https://dl.fbaipublicfiles.com/fasttext/vectors-crawl/cc.ru.300.bin.gz\n",
        "!gunzip cc.ru.300.bin.gz\n"
      ],
      "metadata": {
        "colab": {
          "base_uri": "https://localhost:8080/"
        },
        "id": "R2wRTyk7Nz_6",
        "outputId": "d8babe66-c7be-4b8f-cf67-5f7019838a93"
      },
      "execution_count": null,
      "outputs": [
        {
          "output_type": "stream",
          "name": "stdout",
          "text": [
            "--2025-02-14 11:54:26--  https://dl.fbaipublicfiles.com/fasttext/vectors-crawl/cc.ru.300.bin.gz\n",
            "Resolving dl.fbaipublicfiles.com (dl.fbaipublicfiles.com)... 18.238.176.126, 18.238.176.44, 18.238.176.115, ...\n",
            "Connecting to dl.fbaipublicfiles.com (dl.fbaipublicfiles.com)|18.238.176.126|:443... connected.\n",
            "HTTP request sent, awaiting response... 200 OK\n",
            "Length: 4496459151 (4.2G) [application/octet-stream]\n",
            "Saving to: ‘cc.ru.300.bin.gz’\n",
            "\n",
            "cc.ru.300.bin.gz    100%[===================>]   4.19G  77.3MB/s    in 63s     \n",
            "\n",
            "2025-02-14 11:55:30 (67.9 MB/s) - ‘cc.ru.300.bin.gz’ saved [4496459151/4496459151]\n",
            "\n"
          ]
        }
      ]
    },
    {
      "cell_type": "code",
      "source": [
        "import fasttext\n",
        "ft_model = fasttext.load_model(\"cc.ru.300.bin\")\n"
      ],
      "metadata": {
        "id": "vHnIAaO8OJCx"
      },
      "execution_count": null,
      "outputs": []
    },
    {
      "cell_type": "code",
      "source": [
        "\n",
        "# Пример получения вектора слова\n",
        "word_vector = ft_model.get_word_vector(\"машинное\")\n",
        "print(\"Пример вектора:\", word_vector[:5])  # Выводим первые 5 значений\n"
      ],
      "metadata": {
        "colab": {
          "base_uri": "https://localhost:8080/"
        },
        "id": "m6TkNRWHTsgS",
        "outputId": "9b558d0e-e0b0-4c87-c7dc-39a4217f232e"
      },
      "execution_count": null,
      "outputs": [
        {
          "output_type": "stream",
          "name": "stdout",
          "text": [
            "Пример вектора: [-0.02882465  0.0118585  -0.007445    0.02156318 -0.00196349]\n"
          ]
        }
      ]
    },
    {
      "cell_type": "code",
      "source": [
        "import pandas as pd\n",
        "\n",
        "# Загружаем очищенный датасет\n",
        "df = pd.read_csv(\"cleaned_dataset.csv\")\n",
        "\n",
        "# Убираем пустые строки или строки с пробелами\n",
        "df = df[df['word'].str.strip() != '']  # Убираем строки с пустыми словами\n",
        "\n",
        "# Проверим, есть ли пустые значения или некорректные символы\n",
        "print(\"Проверка на пустые значения:\")\n",
        "print(df.isnull().sum())\n",
        "\n",
        "# Теперь создаем файл для обучения FastText\n",
        "with open(\"train_data.txt\", \"w\", encoding=\"utf-8\") as f:\n",
        "    for _, row in df.iterrows():\n",
        "        label = \"__label__термин\" if row['label'] == 1 else \"__label__не_термин\"  # Присваиваем метку\n",
        "        word = row['word']\n",
        "        f.write(f\"{label} {word}\\n\")  # Записываем строку в формате label word\n"
      ],
      "metadata": {
        "colab": {
          "base_uri": "https://localhost:8080/"
        },
        "id": "PamJ5TEuZNkl",
        "outputId": "125644f7-efd2-45e9-a14e-65059c6650cd"
      },
      "execution_count": null,
      "outputs": [
        {
          "output_type": "stream",
          "name": "stdout",
          "text": [
            "Проверка на пустые значения:\n",
            "word     0\n",
            "label    0\n",
            "dtype: int64\n"
          ]
        }
      ]
    },
    {
      "cell_type": "code",
      "source": [
        "import pandas as pd\n",
        "\n",
        "# Загружаем очищенный датасет\n",
        "df = pd.read_csv(\"cleaned_dataset.csv\")\n",
        "\n",
        "# Проверим на наличие NaN значений\n",
        "print(\"Проверка на NaN:\")\n",
        "print(df.isnull().sum())  # Подсчитаем количество NaN в каждом столбце\n",
        "\n",
        "# Проверим, есть ли пустые строки\n",
        "df = df[df['word'].str.strip() != '']  # Убираем строки с пустыми словами\n",
        "print(\"После удаления пустых строк:\", len(df))\n"
      ],
      "metadata": {
        "colab": {
          "base_uri": "https://localhost:8080/"
        },
        "id": "NMggthKaaWAh",
        "outputId": "f39cd1ba-fe20-4f91-d9f3-15d7c67a9c02"
      },
      "execution_count": null,
      "outputs": [
        {
          "output_type": "stream",
          "name": "stdout",
          "text": [
            "Проверка на NaN:\n",
            "word     0\n",
            "label    0\n",
            "dtype: int64\n",
            "После удаления пустых строк: 908\n"
          ]
        }
      ]
    },
    {
      "cell_type": "code",
      "source": [
        "# Запись данных в файл для FastText\n",
        "with open(\"train_data.txt\", \"w\", encoding=\"utf-8\") as f:\n",
        "    for _, row in df.iterrows():\n",
        "        label = \"__label__термин\" if row['label'] == 1 else \"__label__не_термин\"\n",
        "        word = row['word']\n",
        "        f.write(f\"{label} {word}\\n\")\n",
        "\n",
        "# Проверим содержимое файла\n",
        "with open(\"train_data.txt\", \"r\", encoding=\"utf-8\") as f:\n",
        "    lines = f.readlines()\n",
        "\n",
        "# Выводим несколько строк для проверки\n",
        "print(\"Первые строки из файла train_data.txt:\")\n",
        "for line in lines[:10]:\n",
        "    print(line.strip())  # Показываем первые 10 строк\n"
      ],
      "metadata": {
        "colab": {
          "base_uri": "https://localhost:8080/"
        },
        "id": "raKibo0aaX0C",
        "outputId": "600a0a90-d41e-4696-ab67-ff5fd5953f2b"
      },
      "execution_count": null,
      "outputs": [
        {
          "output_type": "stream",
          "name": "stdout",
          "text": [
            "Первые строки из файла train_data.txt:\n",
            "__label__термин Научные вычисления\n",
            "__label__термин моделирование\n",
            "__label__термин физических процессов\n",
            "__label__термин численный анализ\n",
            "__label__термин дифференциальные уравнения\n",
            "__label__термин динамические системы\n",
            "__label__термин аэродинамика\n",
            "__label__термин методы конечных элементов\n",
            "__label__термин прогнозирование\n",
            "__label__термин воздушные потоки\n"
          ]
        }
      ]
    },
    {
      "cell_type": "code",
      "source": [
        "import fasttext\n",
        "\n",
        "# Обучаем модель на подготовленных данных\n",
        "# Снижаем learning rate (lr) and increase epoch\n",
        "ft_model = fasttext.train_supervised(input=\"train_data.txt\", lr=0.1, epoch=25, dim=100, wordNgrams=2)\n",
        "\n",
        "# Сохраняем модель\n",
        "ft_model.save_model(\"fasttext_model.bin\")\n",
        "print(\"✅ Модель FastText успешно обучена и сохранена в файл 'fasttext_model.bin'\")"
      ],
      "metadata": {
        "colab": {
          "base_uri": "https://localhost:8080/"
        },
        "id": "-Hr9MCXoaxh5",
        "outputId": "6046fb82-42d1-446c-fb61-fdb8471e9865"
      },
      "execution_count": null,
      "outputs": [
        {
          "output_type": "stream",
          "name": "stdout",
          "text": [
            "✅ Модель FastText успешно обучена и сохранена в файл 'fasttext_model.bin'\n"
          ]
        }
      ]
    },
    {
      "cell_type": "code",
      "source": [
        "import fasttext\n",
        "import spacy\n",
        "\n",
        "# Загружаем модель FastText\n",
        "ft_model = fasttext.load_model(\"fasttext_model.bin\")\n",
        "\n",
        "# Загружаем NLP-модель для токенизации (для русского языка)\n",
        "nlp = spacy.load(\"ru_core_news_sm\")\n",
        "\n",
        "# Текст для классификации\n",
        "text = \"Машинное обучение и глубокие нейронные сети активно применяются в биоинформатике, компьютерном зрении и обработке естественного языка. \"\n",
        "\n",
        "# Токенизация текста\n",
        "doc = nlp(text)\n",
        "words = [token.text for token in doc if token.is_alpha]  # Берем только слова (без знаков препинания)\n",
        "\n",
        "# Классифицируем каждое слово\n",
        "for word in words:\n",
        "    label, confidence = ft_model.predict(word)  # Классификация каждого слова\n",
        "    print(f\"Слово: {word} -> Предсказание: {label[0].replace('__label__', '')}, Уверенность: {confidence[0]:.2f}\")\n"
      ],
      "metadata": {
        "colab": {
          "base_uri": "https://localhost:8080/"
        },
        "id": "5qLmDAyUa-Na",
        "outputId": "e3b6e4b5-5cdd-4a94-8605-457d5485f142"
      },
      "execution_count": null,
      "outputs": [
        {
          "output_type": "stream",
          "name": "stderr",
          "text": [
            "/usr/local/lib/python3.11/dist-packages/spacy/util.py:1740: UserWarning: [W111] Jupyter notebook detected: if using `prefer_gpu()` or `require_gpu()`, include it in the same cell right before `spacy.load()` to ensure that the model is loaded on the correct device. More information: http://spacy.io/usage/v3#jupyter-notebook-gpu\n",
            "  warnings.warn(Warnings.W111)\n"
          ]
        },
        {
          "output_type": "stream",
          "name": "stdout",
          "text": [
            "Слово: Машинное -> Предсказание: не_термин, Уверенность: 0.69\n",
            "Слово: обучение -> Предсказание: термин, Уверенность: 1.00\n",
            "Слово: и -> Предсказание: не_термин, Уверенность: 1.00\n",
            "Слово: глубокие -> Предсказание: термин, Уверенность: 0.60\n",
            "Слово: нейронные -> Предсказание: термин, Уверенность: 0.91\n",
            "Слово: сети -> Предсказание: термин, Уверенность: 1.00\n",
            "Слово: активно -> Предсказание: не_термин, Уверенность: 1.00\n",
            "Слово: применяются -> Предсказание: не_термин, Уверенность: 1.00\n",
            "Слово: в -> Предсказание: не_термин, Уверенность: 1.00\n",
            "Слово: биоинформатике -> Предсказание: не_термин, Уверенность: 0.66\n",
            "Слово: компьютерном -> Предсказание: не_термин, Уверенность: 0.83\n",
            "Слово: зрении -> Предсказание: не_термин, Уверенность: 0.83\n",
            "Слово: и -> Предсказание: не_термин, Уверенность: 1.00\n",
            "Слово: обработке -> Предсказание: не_термин, Уверенность: 0.83\n",
            "Слово: естественного -> Предсказание: термин, Уверенность: 0.71\n",
            "Слово: языка -> Предсказание: термин, Уверенность: 0.94\n"
          ]
        }
      ]
    },
    {
      "cell_type": "code",
      "source": [
        "import pandas as pd\n",
        "from sklearn.model_selection import train_test_split\n",
        "\n",
        "# Загружаем очищенный датасет\n",
        "df = pd.read_csv(\"cleaned_dataset.csv\")\n",
        "\n",
        "# Разделяем данные на 80% для обучения и 20% для теста\n",
        "train_df, test_df = train_test_split(df, test_size=0.2, random_state=42)\n",
        "\n",
        "# Сохраняем тестовый датасет в файл\n",
        "test_df.to_csv(\"test_dataset.csv\", index=False, encoding=\"utf-8\")\n",
        "print(\"Тестовый датасет успешно сохранен в 'test_dataset.csv'\")\n"
      ],
      "metadata": {
        "colab": {
          "base_uri": "https://localhost:8080/"
        },
        "id": "Gv2Ft7FubUwS",
        "outputId": "49236001-428f-400c-a068-664dacaccb77"
      },
      "execution_count": null,
      "outputs": [
        {
          "output_type": "stream",
          "name": "stdout",
          "text": [
            "Тестовый датасет успешно сохранен в 'test_dataset.csv'\n"
          ]
        }
      ]
    },
    {
      "cell_type": "code",
      "source": [
        "from sklearn.metrics import classification_report\n",
        "\n",
        "# Загрузка тестового датасета\n",
        "test_df = pd.read_csv(\"test_dataset.csv\")\n",
        "\n",
        "# Тестируем каждое слово в тестовом наборе данных\n",
        "predictions = []\n",
        "true_labels = []\n",
        "\n",
        "for _, row in test_df.iterrows():\n",
        "    word = row['word']\n",
        "    true_labels.append(row['label'])  # Истинные метки\n",
        "    label, _ = ft_model.predict(word)  # Получаем предсказание\n",
        "\n",
        "    # Convert prediction to numerical label\n",
        "    predicted_label = 1 if label[0].replace('__label__', '') == \"термин\" else 0\n",
        "    predictions.append(predicted_label)  # Добавляем числовое предсказание\n",
        "\n",
        "# Выводим отчет по классификации\n",
        "print(classification_report(true_labels, predictions, target_names=[\"Не-термин\", \"Термин\"]))"
      ],
      "metadata": {
        "colab": {
          "base_uri": "https://localhost:8080/"
        },
        "id": "rhOZA-iYcAGi",
        "outputId": "917c4b24-5cd2-429b-88bc-77d8029c5f6c"
      },
      "execution_count": null,
      "outputs": [
        {
          "output_type": "stream",
          "name": "stdout",
          "text": [
            "              precision    recall  f1-score   support\n",
            "\n",
            "   Не-термин       0.88      0.97      0.92        74\n",
            "      Термин       0.98      0.91      0.94       108\n",
            "\n",
            "    accuracy                           0.93       182\n",
            "   macro avg       0.93      0.94      0.93       182\n",
            "weighted avg       0.94      0.93      0.93       182\n",
            "\n"
          ]
        }
      ]
    },
    {
      "cell_type": "code",
      "source": [],
      "metadata": {
        "id": "fd_5PggCdGJ2"
      },
      "execution_count": null,
      "outputs": []
    }
  ]
}